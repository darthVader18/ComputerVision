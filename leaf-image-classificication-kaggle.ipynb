{
 "cells": [
  {
   "cell_type": "markdown",
   "metadata": {
    "papermill": {
     "duration": 0.023776,
     "end_time": "2020-09-27T17:04:02.094508",
     "exception": false,
     "start_time": "2020-09-27T17:04:02.070732",
     "status": "completed"
    },
    "tags": []
   },
   "source": [
    "# Downloading & Importing Libraries"
   ]
  },
  {
   "cell_type": "code",
   "execution_count": 1,
   "metadata": {
    "_cell_guid": "b1076dfc-b9ad-4769-8c92-a6c4dae69d19",
    "_uuid": "8f2839f25d086af736a60e9eeb907d3b93b6e0e5",
    "execution": {
     "iopub.execute_input": "2020-09-27T17:04:02.146388Z",
     "iopub.status.busy": "2020-09-27T17:04:02.145557Z",
     "iopub.status.idle": "2020-09-27T17:04:22.699204Z",
     "shell.execute_reply": "2020-09-27T17:04:22.698573Z"
    },
    "papermill": {
     "duration": 20.582334,
     "end_time": "2020-09-27T17:04:22.699354",
     "exception": false,
     "start_time": "2020-09-27T17:04:02.117020",
     "status": "completed"
    },
    "tags": []
   },
   "outputs": [
    {
     "name": "stdout",
     "output_type": "stream",
     "text": [
      "Collecting wandb\r\n",
      "  Downloading wandb-0.10.2-py2.py3-none-any.whl (1.6 MB)\r\n",
      "\u001b[K     |████████████████████████████████| 1.6 MB 1.4 MB/s \r\n",
      "\u001b[?25hRequirement already satisfied, skipping upgrade: watchdog>=0.8.3 in /opt/conda/lib/python3.7/site-packages (from wandb) (0.10.2)\r\n",
      "Requirement already satisfied, skipping upgrade: requests<3,>=2.0.0 in /opt/conda/lib/python3.7/site-packages (from wandb) (2.23.0)\r\n",
      "Requirement already satisfied, skipping upgrade: docker-pycreds>=0.4.0 in /opt/conda/lib/python3.7/site-packages (from wandb) (0.4.0)\r\n",
      "Requirement already satisfied, skipping upgrade: GitPython>=1.0.0 in /opt/conda/lib/python3.7/site-packages (from wandb) (3.1.1)\r\n",
      "Requirement already satisfied, skipping upgrade: six>=1.13.0 in /opt/conda/lib/python3.7/site-packages (from wandb) (1.14.0)\r\n",
      "Requirement already satisfied, skipping upgrade: subprocess32>=3.5.3 in /opt/conda/lib/python3.7/site-packages (from wandb) (3.5.4)\r\n",
      "Requirement already satisfied, skipping upgrade: PyYAML in /opt/conda/lib/python3.7/site-packages (from wandb) (5.3.1)\r\n",
      "Requirement already satisfied, skipping upgrade: configparser>=3.8.1 in /opt/conda/lib/python3.7/site-packages (from wandb) (5.0.0)\r\n",
      "Requirement already satisfied, skipping upgrade: promise<3,>=2.0 in /opt/conda/lib/python3.7/site-packages (from wandb) (2.3)\r\n",
      "Requirement already satisfied, skipping upgrade: protobuf>=3.12.0 in /opt/conda/lib/python3.7/site-packages (from wandb) (3.12.2)\r\n",
      "Requirement already satisfied, skipping upgrade: psutil>=5.0.0 in /opt/conda/lib/python3.7/site-packages (from wandb) (5.7.0)\r\n",
      "Requirement already satisfied, skipping upgrade: sentry-sdk>=0.4.0 in /opt/conda/lib/python3.7/site-packages (from wandb) (0.16.2)\r\n",
      "Requirement already satisfied, skipping upgrade: shortuuid>=0.5.0 in /opt/conda/lib/python3.7/site-packages (from wandb) (1.0.1)\r\n",
      "Requirement already satisfied, skipping upgrade: Click>=7.0 in /opt/conda/lib/python3.7/site-packages (from wandb) (7.1.1)\r\n",
      "Requirement already satisfied, skipping upgrade: python-dateutil>=2.6.1 in /opt/conda/lib/python3.7/site-packages (from wandb) (2.8.1)\r\n",
      "Requirement already satisfied, skipping upgrade: pathtools>=0.1.1 in /opt/conda/lib/python3.7/site-packages (from watchdog>=0.8.3->wandb) (0.1.2)\r\n",
      "Requirement already satisfied, skipping upgrade: chardet<4,>=3.0.2 in /opt/conda/lib/python3.7/site-packages (from requests<3,>=2.0.0->wandb) (3.0.4)\r\n",
      "Requirement already satisfied, skipping upgrade: idna<3,>=2.5 in /opt/conda/lib/python3.7/site-packages (from requests<3,>=2.0.0->wandb) (2.9)\r\n",
      "Requirement already satisfied, skipping upgrade: certifi>=2017.4.17 in /opt/conda/lib/python3.7/site-packages (from requests<3,>=2.0.0->wandb) (2020.6.20)\r\n",
      "Requirement already satisfied, skipping upgrade: urllib3!=1.25.0,!=1.25.1,<1.26,>=1.21.1 in /opt/conda/lib/python3.7/site-packages (from requests<3,>=2.0.0->wandb) (1.24.3)\r\n",
      "Requirement already satisfied, skipping upgrade: gitdb<5,>=4.0.1 in /opt/conda/lib/python3.7/site-packages (from GitPython>=1.0.0->wandb) (4.0.4)\r\n",
      "Requirement already satisfied, skipping upgrade: setuptools in /opt/conda/lib/python3.7/site-packages (from protobuf>=3.12.0->wandb) (46.1.3.post20200325)\r\n",
      "Requirement already satisfied, skipping upgrade: smmap<4,>=3.0.1 in /opt/conda/lib/python3.7/site-packages (from gitdb<5,>=4.0.1->GitPython>=1.0.0->wandb) (3.0.2)\r\n",
      "Installing collected packages: wandb\r\n",
      "  Attempting uninstall: wandb\r\n",
      "    Found existing installation: wandb 0.9.4\r\n",
      "    Uninstalling wandb-0.9.4:\r\n",
      "      Successfully uninstalled wandb-0.9.4\r\n",
      "Successfully installed wandb-0.10.2\r\n",
      "\u001b[33mWARNING: You are using pip version 20.1.1; however, version 20.2.3 is available.\r\n",
      "You should consider upgrading via the '/opt/conda/bin/python3.7 -m pip install --upgrade pip' command.\u001b[0m\r\n",
      "Collecting efficientnet\r\n",
      "  Downloading efficientnet-1.1.1-py3-none-any.whl (18 kB)\r\n",
      "Collecting keras-applications<=1.0.8,>=1.0.7\r\n",
      "  Downloading Keras_Applications-1.0.8-py3-none-any.whl (50 kB)\r\n",
      "\u001b[K     |████████████████████████████████| 50 kB 1.2 MB/s \r\n",
      "\u001b[?25hRequirement already satisfied: scikit-image in /opt/conda/lib/python3.7/site-packages (from efficientnet) (0.16.2)\r\n",
      "Requirement already satisfied: h5py in /opt/conda/lib/python3.7/site-packages (from keras-applications<=1.0.8,>=1.0.7->efficientnet) (2.10.0)\r\n",
      "Requirement already satisfied: numpy>=1.9.1 in /opt/conda/lib/python3.7/site-packages (from keras-applications<=1.0.8,>=1.0.7->efficientnet) (1.18.5)\r\n",
      "Requirement already satisfied: scipy>=0.19.0 in /opt/conda/lib/python3.7/site-packages (from scikit-image->efficientnet) (1.4.1)\r\n",
      "Requirement already satisfied: matplotlib!=3.0.0,>=2.0.0 in /opt/conda/lib/python3.7/site-packages (from scikit-image->efficientnet) (3.2.1)\r\n",
      "Requirement already satisfied: networkx>=2.0 in /opt/conda/lib/python3.7/site-packages (from scikit-image->efficientnet) (2.4)\r\n",
      "Requirement already satisfied: pillow>=4.3.0 in /opt/conda/lib/python3.7/site-packages (from scikit-image->efficientnet) (7.2.0)\r\n",
      "Requirement already satisfied: imageio>=2.3.0 in /opt/conda/lib/python3.7/site-packages (from scikit-image->efficientnet) (2.8.0)\r\n",
      "Requirement already satisfied: PyWavelets>=0.4.0 in /opt/conda/lib/python3.7/site-packages (from scikit-image->efficientnet) (1.1.1)\r\n",
      "Requirement already satisfied: six in /opt/conda/lib/python3.7/site-packages (from h5py->keras-applications<=1.0.8,>=1.0.7->efficientnet) (1.14.0)\r\n",
      "Requirement already satisfied: python-dateutil>=2.1 in /opt/conda/lib/python3.7/site-packages (from matplotlib!=3.0.0,>=2.0.0->scikit-image->efficientnet) (2.8.1)\r\n",
      "Requirement already satisfied: pyparsing!=2.0.4,!=2.1.2,!=2.1.6,>=2.0.1 in /opt/conda/lib/python3.7/site-packages (from matplotlib!=3.0.0,>=2.0.0->scikit-image->efficientnet) (2.4.7)\r\n",
      "Requirement already satisfied: kiwisolver>=1.0.1 in /opt/conda/lib/python3.7/site-packages (from matplotlib!=3.0.0,>=2.0.0->scikit-image->efficientnet) (1.2.0)\r\n",
      "Requirement already satisfied: cycler>=0.10 in /opt/conda/lib/python3.7/site-packages (from matplotlib!=3.0.0,>=2.0.0->scikit-image->efficientnet) (0.10.0)\r\n",
      "Requirement already satisfied: decorator>=4.3.0 in /opt/conda/lib/python3.7/site-packages (from networkx>=2.0->scikit-image->efficientnet) (4.4.2)\r\n",
      "Installing collected packages: keras-applications, efficientnet\r\n",
      "Successfully installed efficientnet-1.1.1 keras-applications-1.0.8\r\n",
      "\u001b[33mWARNING: You are using pip version 20.1.1; however, version 20.2.3 is available.\r\n",
      "You should consider upgrading via the '/opt/conda/bin/python3.7 -m pip install --upgrade pip' command.\u001b[0m\r\n"
     ]
    }
   ],
   "source": [
    "!pip install --upgrade wandb\n",
    "\n",
    "!pip install efficientnet"
   ]
  },
  {
   "cell_type": "code",
   "execution_count": 2,
   "metadata": {
    "_cell_guid": "79c7e3d0-c299-4dcb-8224-4455121ee9b0",
    "_uuid": "d629ff2d2480ee46fbb7e2d37f6b5fab8052498a",
    "execution": {
     "iopub.execute_input": "2020-09-27T17:04:22.774001Z",
     "iopub.status.busy": "2020-09-27T17:04:22.773014Z",
     "iopub.status.idle": "2020-09-27T17:04:29.997066Z",
     "shell.execute_reply": "2020-09-27T17:04:29.996360Z"
    },
    "papermill": {
     "duration": 7.263228,
     "end_time": "2020-09-27T17:04:29.997178",
     "exception": false,
     "start_time": "2020-09-27T17:04:22.733950",
     "status": "completed"
    },
    "tags": []
   },
   "outputs": [],
   "source": [
    "import numpy as np\n",
    "import pandas as pd\n",
    "\n",
    "import tensorflow as tf\n",
    "\n",
    "import matplotlib.pyplot as plt\n",
    "from kaggle_datasets import KaggleDatasets\n",
    "from sklearn.model_selection import train_test_split\n",
    "\n",
    "import efficientnet.tfkeras as efn\n",
    "\n",
    "import wandb\n",
    "from wandb.keras import WandbCallback"
   ]
  },
  {
   "cell_type": "code",
   "execution_count": 3,
   "metadata": {
    "execution": {
     "iopub.execute_input": "2020-09-27T17:04:30.069619Z",
     "iopub.status.busy": "2020-09-27T17:04:30.068570Z",
     "iopub.status.idle": "2020-09-27T17:04:30.073513Z",
     "shell.execute_reply": "2020-09-27T17:04:30.072789Z"
    },
    "papermill": {
     "duration": 0.044313,
     "end_time": "2020-09-27T17:04:30.073659",
     "exception": false,
     "start_time": "2020-09-27T17:04:30.029346",
     "status": "completed"
    },
    "tags": []
   },
   "outputs": [
    {
     "data": {
      "text/plain": [
       "'2.2.0'"
      ]
     },
     "execution_count": 3,
     "metadata": {},
     "output_type": "execute_result"
    }
   ],
   "source": [
    "tf.__version__"
   ]
  },
  {
   "cell_type": "code",
   "execution_count": 4,
   "metadata": {
    "execution": {
     "iopub.execute_input": "2020-09-27T17:04:30.151950Z",
     "iopub.status.busy": "2020-09-27T17:04:30.146160Z",
     "iopub.status.idle": "2020-09-27T17:04:32.187193Z",
     "shell.execute_reply": "2020-09-27T17:04:32.186600Z"
    },
    "papermill": {
     "duration": 2.079978,
     "end_time": "2020-09-27T17:04:32.187319",
     "exception": false,
     "start_time": "2020-09-27T17:04:30.107341",
     "status": "completed"
    },
    "tags": []
   },
   "outputs": [
    {
     "name": "stdout",
     "output_type": "stream",
     "text": [
      "\u001b[34m\u001b[1mwandb\u001b[0m: Appending key for api.wandb.ai to your netrc file: /root/.netrc\r\n"
     ]
    }
   ],
   "source": [
    "!wandb login c1791ecafb99a7335843177aeef2935db9600e4b"
   ]
  },
  {
   "cell_type": "markdown",
   "metadata": {
    "papermill": {
     "duration": 0.03272,
     "end_time": "2020-09-27T17:04:32.254778",
     "exception": false,
     "start_time": "2020-09-27T17:04:32.222058",
     "status": "completed"
    },
    "tags": []
   },
   "source": [
    "# Initialize TPU"
   ]
  },
  {
   "cell_type": "code",
   "execution_count": 5,
   "metadata": {
    "execution": {
     "iopub.execute_input": "2020-09-27T17:04:32.420143Z",
     "iopub.status.busy": "2020-09-27T17:04:32.375150Z",
     "iopub.status.idle": "2020-09-27T17:04:37.434607Z",
     "shell.execute_reply": "2020-09-27T17:04:37.433724Z"
    },
    "papermill": {
     "duration": 5.146725,
     "end_time": "2020-09-27T17:04:37.434766",
     "exception": false,
     "start_time": "2020-09-27T17:04:32.288041",
     "status": "completed"
    },
    "tags": []
   },
   "outputs": [
    {
     "name": "stdout",
     "output_type": "stream",
     "text": [
      "Running on TPU grpc://10.0.0.2:8470\n",
      "Replicas : 8\n",
      "gs://kds-9ec1742d9fc84e86a4d160af664dcc2778b6b754c90c3122654cf571\n"
     ]
    }
   ],
   "source": [
    "# Detect TPU\n",
    "\n",
    "try:\n",
    "    tpu = tf.distribute.cluster_resolver.TPUClusterResolver()\n",
    "    print(\"Running on TPU\", tpu.master())\n",
    "    \n",
    "except:\n",
    "    tpu = None\n",
    "    print(\"Couldn't able to Find TPU :(\")\n",
    "    \n",
    "if tpu:\n",
    "    tf.config.experimental_connect_to_cluster(tpu)\n",
    "    tf.tpu.experimental.initialize_tpu_system(tpu)\n",
    "    strategy = tf.distribute.experimental.TPUStrategy(tpu)\n",
    "else:\n",
    "    strategy = tf.distribute.get_strategy()\n",
    "    \n",
    "    \n",
    "print(\"Replicas :\", strategy.num_replicas_in_sync)\n",
    "\n",
    "# Data Access from GCS\n",
    "\n",
    "GCS_PATH = KaggleDatasets().get_gcs_path()\n",
    "print(GCS_PATH)"
   ]
  },
  {
   "cell_type": "markdown",
   "metadata": {
    "papermill": {
     "duration": 0.033947,
     "end_time": "2020-09-27T17:04:37.503970",
     "exception": false,
     "start_time": "2020-09-27T17:04:37.470023",
     "status": "completed"
    },
    "tags": []
   },
   "source": [
    "# Imporing Dataset"
   ]
  },
  {
   "cell_type": "code",
   "execution_count": 6,
   "metadata": {
    "execution": {
     "iopub.execute_input": "2020-09-27T17:04:37.595032Z",
     "iopub.status.busy": "2020-09-27T17:04:37.593894Z",
     "iopub.status.idle": "2020-09-27T17:04:37.630746Z",
     "shell.execute_reply": "2020-09-27T17:04:37.630084Z"
    },
    "papermill": {
     "duration": 0.089177,
     "end_time": "2020-09-27T17:04:37.630880",
     "exception": false,
     "start_time": "2020-09-27T17:04:37.541703",
     "status": "completed"
    },
    "tags": []
   },
   "outputs": [
    {
     "data": {
      "text/html": [
       "<div>\n",
       "<style scoped>\n",
       "    .dataframe tbody tr th:only-of-type {\n",
       "        vertical-align: middle;\n",
       "    }\n",
       "\n",
       "    .dataframe tbody tr th {\n",
       "        vertical-align: top;\n",
       "    }\n",
       "\n",
       "    .dataframe thead th {\n",
       "        text-align: right;\n",
       "    }\n",
       "</style>\n",
       "<table border=\"1\" class=\"dataframe\">\n",
       "  <thead>\n",
       "    <tr style=\"text-align: right;\">\n",
       "      <th></th>\n",
       "      <th>image_id</th>\n",
       "      <th>healthy</th>\n",
       "      <th>multiple_diseases</th>\n",
       "      <th>rust</th>\n",
       "      <th>scab</th>\n",
       "    </tr>\n",
       "  </thead>\n",
       "  <tbody>\n",
       "    <tr>\n",
       "      <th>0</th>\n",
       "      <td>Train_0</td>\n",
       "      <td>0</td>\n",
       "      <td>0</td>\n",
       "      <td>0</td>\n",
       "      <td>1</td>\n",
       "    </tr>\n",
       "    <tr>\n",
       "      <th>1</th>\n",
       "      <td>Train_1</td>\n",
       "      <td>0</td>\n",
       "      <td>1</td>\n",
       "      <td>0</td>\n",
       "      <td>0</td>\n",
       "    </tr>\n",
       "    <tr>\n",
       "      <th>2</th>\n",
       "      <td>Train_2</td>\n",
       "      <td>1</td>\n",
       "      <td>0</td>\n",
       "      <td>0</td>\n",
       "      <td>0</td>\n",
       "    </tr>\n",
       "    <tr>\n",
       "      <th>3</th>\n",
       "      <td>Train_3</td>\n",
       "      <td>0</td>\n",
       "      <td>0</td>\n",
       "      <td>1</td>\n",
       "      <td>0</td>\n",
       "    </tr>\n",
       "    <tr>\n",
       "      <th>4</th>\n",
       "      <td>Train_4</td>\n",
       "      <td>1</td>\n",
       "      <td>0</td>\n",
       "      <td>0</td>\n",
       "      <td>0</td>\n",
       "    </tr>\n",
       "    <tr>\n",
       "      <th>...</th>\n",
       "      <td>...</td>\n",
       "      <td>...</td>\n",
       "      <td>...</td>\n",
       "      <td>...</td>\n",
       "      <td>...</td>\n",
       "    </tr>\n",
       "    <tr>\n",
       "      <th>1816</th>\n",
       "      <td>Train_1816</td>\n",
       "      <td>0</td>\n",
       "      <td>0</td>\n",
       "      <td>0</td>\n",
       "      <td>1</td>\n",
       "    </tr>\n",
       "    <tr>\n",
       "      <th>1817</th>\n",
       "      <td>Train_1817</td>\n",
       "      <td>1</td>\n",
       "      <td>0</td>\n",
       "      <td>0</td>\n",
       "      <td>0</td>\n",
       "    </tr>\n",
       "    <tr>\n",
       "      <th>1818</th>\n",
       "      <td>Train_1818</td>\n",
       "      <td>1</td>\n",
       "      <td>0</td>\n",
       "      <td>0</td>\n",
       "      <td>0</td>\n",
       "    </tr>\n",
       "    <tr>\n",
       "      <th>1819</th>\n",
       "      <td>Train_1819</td>\n",
       "      <td>0</td>\n",
       "      <td>0</td>\n",
       "      <td>1</td>\n",
       "      <td>0</td>\n",
       "    </tr>\n",
       "    <tr>\n",
       "      <th>1820</th>\n",
       "      <td>Train_1820</td>\n",
       "      <td>0</td>\n",
       "      <td>0</td>\n",
       "      <td>0</td>\n",
       "      <td>1</td>\n",
       "    </tr>\n",
       "  </tbody>\n",
       "</table>\n",
       "<p>1821 rows × 5 columns</p>\n",
       "</div>"
      ],
      "text/plain": [
       "        image_id  healthy  multiple_diseases  rust  scab\n",
       "0        Train_0        0                  0     0     1\n",
       "1        Train_1        0                  1     0     0\n",
       "2        Train_2        1                  0     0     0\n",
       "3        Train_3        0                  0     1     0\n",
       "4        Train_4        1                  0     0     0\n",
       "...          ...      ...                ...   ...   ...\n",
       "1816  Train_1816        0                  0     0     1\n",
       "1817  Train_1817        1                  0     0     0\n",
       "1818  Train_1818        1                  0     0     0\n",
       "1819  Train_1819        0                  0     1     0\n",
       "1820  Train_1820        0                  0     0     1\n",
       "\n",
       "[1821 rows x 5 columns]"
      ]
     },
     "execution_count": 6,
     "metadata": {},
     "output_type": "execute_result"
    }
   ],
   "source": [
    "train = pd.read_csv(\"../input/plant-pathology-2020-fgvc7/train.csv\")\n",
    "\n",
    "train"
   ]
  },
  {
   "cell_type": "code",
   "execution_count": 7,
   "metadata": {
    "execution": {
     "iopub.execute_input": "2020-09-27T17:04:37.720031Z",
     "iopub.status.busy": "2020-09-27T17:04:37.719126Z",
     "iopub.status.idle": "2020-09-27T17:04:37.750787Z",
     "shell.execute_reply": "2020-09-27T17:04:37.750124Z"
    },
    "papermill": {
     "duration": 0.078423,
     "end_time": "2020-09-27T17:04:37.750899",
     "exception": false,
     "start_time": "2020-09-27T17:04:37.672476",
     "status": "completed"
    },
    "tags": []
   },
   "outputs": [
    {
     "data": {
      "text/html": [
       "<div>\n",
       "<style scoped>\n",
       "    .dataframe tbody tr th:only-of-type {\n",
       "        vertical-align: middle;\n",
       "    }\n",
       "\n",
       "    .dataframe tbody tr th {\n",
       "        vertical-align: top;\n",
       "    }\n",
       "\n",
       "    .dataframe thead th {\n",
       "        text-align: right;\n",
       "    }\n",
       "</style>\n",
       "<table border=\"1\" class=\"dataframe\">\n",
       "  <thead>\n",
       "    <tr style=\"text-align: right;\">\n",
       "      <th></th>\n",
       "      <th>image_id</th>\n",
       "      <th>healthy</th>\n",
       "      <th>multiple_diseases</th>\n",
       "      <th>rust</th>\n",
       "      <th>scab</th>\n",
       "    </tr>\n",
       "  </thead>\n",
       "  <tbody>\n",
       "    <tr>\n",
       "      <th>0</th>\n",
       "      <td>gs://kds-9ec1742d9fc84e86a4d160af664dcc2778b6b...</td>\n",
       "      <td>0</td>\n",
       "      <td>0</td>\n",
       "      <td>0</td>\n",
       "      <td>1</td>\n",
       "    </tr>\n",
       "    <tr>\n",
       "      <th>1</th>\n",
       "      <td>gs://kds-9ec1742d9fc84e86a4d160af664dcc2778b6b...</td>\n",
       "      <td>0</td>\n",
       "      <td>1</td>\n",
       "      <td>0</td>\n",
       "      <td>0</td>\n",
       "    </tr>\n",
       "    <tr>\n",
       "      <th>2</th>\n",
       "      <td>gs://kds-9ec1742d9fc84e86a4d160af664dcc2778b6b...</td>\n",
       "      <td>1</td>\n",
       "      <td>0</td>\n",
       "      <td>0</td>\n",
       "      <td>0</td>\n",
       "    </tr>\n",
       "    <tr>\n",
       "      <th>3</th>\n",
       "      <td>gs://kds-9ec1742d9fc84e86a4d160af664dcc2778b6b...</td>\n",
       "      <td>0</td>\n",
       "      <td>0</td>\n",
       "      <td>1</td>\n",
       "      <td>0</td>\n",
       "    </tr>\n",
       "    <tr>\n",
       "      <th>4</th>\n",
       "      <td>gs://kds-9ec1742d9fc84e86a4d160af664dcc2778b6b...</td>\n",
       "      <td>1</td>\n",
       "      <td>0</td>\n",
       "      <td>0</td>\n",
       "      <td>0</td>\n",
       "    </tr>\n",
       "    <tr>\n",
       "      <th>...</th>\n",
       "      <td>...</td>\n",
       "      <td>...</td>\n",
       "      <td>...</td>\n",
       "      <td>...</td>\n",
       "      <td>...</td>\n",
       "    </tr>\n",
       "    <tr>\n",
       "      <th>1816</th>\n",
       "      <td>gs://kds-9ec1742d9fc84e86a4d160af664dcc2778b6b...</td>\n",
       "      <td>0</td>\n",
       "      <td>0</td>\n",
       "      <td>0</td>\n",
       "      <td>1</td>\n",
       "    </tr>\n",
       "    <tr>\n",
       "      <th>1817</th>\n",
       "      <td>gs://kds-9ec1742d9fc84e86a4d160af664dcc2778b6b...</td>\n",
       "      <td>1</td>\n",
       "      <td>0</td>\n",
       "      <td>0</td>\n",
       "      <td>0</td>\n",
       "    </tr>\n",
       "    <tr>\n",
       "      <th>1818</th>\n",
       "      <td>gs://kds-9ec1742d9fc84e86a4d160af664dcc2778b6b...</td>\n",
       "      <td>1</td>\n",
       "      <td>0</td>\n",
       "      <td>0</td>\n",
       "      <td>0</td>\n",
       "    </tr>\n",
       "    <tr>\n",
       "      <th>1819</th>\n",
       "      <td>gs://kds-9ec1742d9fc84e86a4d160af664dcc2778b6b...</td>\n",
       "      <td>0</td>\n",
       "      <td>0</td>\n",
       "      <td>1</td>\n",
       "      <td>0</td>\n",
       "    </tr>\n",
       "    <tr>\n",
       "      <th>1820</th>\n",
       "      <td>gs://kds-9ec1742d9fc84e86a4d160af664dcc2778b6b...</td>\n",
       "      <td>0</td>\n",
       "      <td>0</td>\n",
       "      <td>0</td>\n",
       "      <td>1</td>\n",
       "    </tr>\n",
       "  </tbody>\n",
       "</table>\n",
       "<p>1821 rows × 5 columns</p>\n",
       "</div>"
      ],
      "text/plain": [
       "                                               image_id  healthy  \\\n",
       "0     gs://kds-9ec1742d9fc84e86a4d160af664dcc2778b6b...        0   \n",
       "1     gs://kds-9ec1742d9fc84e86a4d160af664dcc2778b6b...        0   \n",
       "2     gs://kds-9ec1742d9fc84e86a4d160af664dcc2778b6b...        1   \n",
       "3     gs://kds-9ec1742d9fc84e86a4d160af664dcc2778b6b...        0   \n",
       "4     gs://kds-9ec1742d9fc84e86a4d160af664dcc2778b6b...        1   \n",
       "...                                                 ...      ...   \n",
       "1816  gs://kds-9ec1742d9fc84e86a4d160af664dcc2778b6b...        0   \n",
       "1817  gs://kds-9ec1742d9fc84e86a4d160af664dcc2778b6b...        1   \n",
       "1818  gs://kds-9ec1742d9fc84e86a4d160af664dcc2778b6b...        1   \n",
       "1819  gs://kds-9ec1742d9fc84e86a4d160af664dcc2778b6b...        0   \n",
       "1820  gs://kds-9ec1742d9fc84e86a4d160af664dcc2778b6b...        0   \n",
       "\n",
       "      multiple_diseases  rust  scab  \n",
       "0                     0     0     1  \n",
       "1                     1     0     0  \n",
       "2                     0     0     0  \n",
       "3                     0     1     0  \n",
       "4                     0     0     0  \n",
       "...                 ...   ...   ...  \n",
       "1816                  0     0     1  \n",
       "1817                  0     0     0  \n",
       "1818                  0     0     0  \n",
       "1819                  0     1     0  \n",
       "1820                  0     0     1  \n",
       "\n",
       "[1821 rows x 5 columns]"
      ]
     },
     "execution_count": 7,
     "metadata": {},
     "output_type": "execute_result"
    }
   ],
   "source": [
    "train['image_id'] = GCS_PATH + '/images/' + train['image_id'] +'.jpg'\n",
    "train"
   ]
  },
  {
   "cell_type": "code",
   "execution_count": 8,
   "metadata": {
    "execution": {
     "iopub.execute_input": "2020-09-27T17:04:37.831785Z",
     "iopub.status.busy": "2020-09-27T17:04:37.831047Z",
     "iopub.status.idle": "2020-09-27T17:04:37.834442Z",
     "shell.execute_reply": "2020-09-27T17:04:37.834885Z"
    },
    "papermill": {
     "duration": 0.048443,
     "end_time": "2020-09-27T17:04:37.835028",
     "exception": false,
     "start_time": "2020-09-27T17:04:37.786585",
     "status": "completed"
    },
    "tags": []
   },
   "outputs": [
    {
     "data": {
      "text/plain": [
       "'gs://kds-9ec1742d9fc84e86a4d160af664dcc2778b6b754c90c3122654cf571/images/Train_0.jpg'"
      ]
     },
     "execution_count": 8,
     "metadata": {},
     "output_type": "execute_result"
    }
   ],
   "source": [
    "train['image_id'][0]"
   ]
  },
  {
   "cell_type": "code",
   "execution_count": 9,
   "metadata": {
    "execution": {
     "iopub.execute_input": "2020-09-27T17:04:37.917540Z",
     "iopub.status.busy": "2020-09-27T17:04:37.916571Z",
     "iopub.status.idle": "2020-09-27T17:04:37.921371Z",
     "shell.execute_reply": "2020-09-27T17:04:37.920732Z"
    },
    "papermill": {
     "duration": 0.050179,
     "end_time": "2020-09-27T17:04:37.921503",
     "exception": false,
     "start_time": "2020-09-27T17:04:37.871324",
     "status": "completed"
    },
    "tags": []
   },
   "outputs": [
    {
     "data": {
      "text/plain": [
       "(array(['gs://kds-9ec1742d9fc84e86a4d160af664dcc2778b6b754c90c3122654cf571/images/Train_0.jpg',\n",
       "        'gs://kds-9ec1742d9fc84e86a4d160af664dcc2778b6b754c90c3122654cf571/images/Train_1.jpg',\n",
       "        'gs://kds-9ec1742d9fc84e86a4d160af664dcc2778b6b754c90c3122654cf571/images/Train_2.jpg',\n",
       "        ...,\n",
       "        'gs://kds-9ec1742d9fc84e86a4d160af664dcc2778b6b754c90c3122654cf571/images/Train_1818.jpg',\n",
       "        'gs://kds-9ec1742d9fc84e86a4d160af664dcc2778b6b754c90c3122654cf571/images/Train_1819.jpg',\n",
       "        'gs://kds-9ec1742d9fc84e86a4d160af664dcc2778b6b754c90c3122654cf571/images/Train_1820.jpg'],\n",
       "       dtype=object),\n",
       " array([[0, 0, 0, 1],\n",
       "        [0, 1, 0, 0],\n",
       "        [1, 0, 0, 0],\n",
       "        ...,\n",
       "        [1, 0, 0, 0],\n",
       "        [0, 0, 1, 0],\n",
       "        [0, 0, 0, 1]]))"
      ]
     },
     "execution_count": 9,
     "metadata": {},
     "output_type": "execute_result"
    }
   ],
   "source": [
    "img_paths = train['image_id'].values\n",
    "labels = train.iloc[:, 1:].values\n",
    "\n",
    "img_paths, labels"
   ]
  },
  {
   "cell_type": "code",
   "execution_count": 10,
   "metadata": {
    "execution": {
     "iopub.execute_input": "2020-09-27T17:04:38.001766Z",
     "iopub.status.busy": "2020-09-27T17:04:38.000718Z",
     "iopub.status.idle": "2020-09-27T17:04:38.004836Z",
     "shell.execute_reply": "2020-09-27T17:04:38.003991Z"
    },
    "papermill": {
     "duration": 0.046956,
     "end_time": "2020-09-27T17:04:38.005010",
     "exception": false,
     "start_time": "2020-09-27T17:04:37.958054",
     "status": "completed"
    },
    "tags": []
   },
   "outputs": [],
   "source": [
    "train_img, valid_img, train_labels, valid_labels = train_test_split(img_paths, labels, test_size=0.1)"
   ]
  },
  {
   "cell_type": "markdown",
   "metadata": {
    "papermill": {
     "duration": 0.036786,
     "end_time": "2020-09-27T17:04:38.083741",
     "exception": false,
     "start_time": "2020-09-27T17:04:38.046955",
     "status": "completed"
    },
    "tags": []
   },
   "source": [
    "# Making Training & Validation datasets"
   ]
  },
  {
   "cell_type": "code",
   "execution_count": 11,
   "metadata": {
    "execution": {
     "iopub.execute_input": "2020-09-27T17:04:38.167907Z",
     "iopub.status.busy": "2020-09-27T17:04:38.166900Z",
     "iopub.status.idle": "2020-09-27T17:04:38.170118Z",
     "shell.execute_reply": "2020-09-27T17:04:38.169614Z"
    },
    "papermill": {
     "duration": 0.049635,
     "end_time": "2020-09-27T17:04:38.170232",
     "exception": false,
     "start_time": "2020-09-27T17:04:38.120597",
     "status": "completed"
    },
    "tags": []
   },
   "outputs": [],
   "source": [
    "# The function to take a imahe path and return the image ( in array )\n",
    "def read_img(filename, label=None, img_size=(512, 512)):\n",
    "    \n",
    "    bits = tf.io.read_file(filename)\n",
    "    \n",
    "    img = tf.image.decode_jpeg(bits, channels=3)\n",
    "    \n",
    "    img = tf.cast(img, tf.float32) / 255.0\n",
    "    \n",
    "    img = tf.image.resize(img, img_size)\n",
    "    \n",
    "    if label is None:\n",
    "        return img\n",
    "    \n",
    "    else:\n",
    "        return img, label\n",
    "\n",
    "# The function to do the data argumentation\n",
    "def data_aug(img, label=None):\n",
    "    \n",
    "    img = tf.image.random_flip_left_right(img)\n",
    "    \n",
    "    img = tf.image.random_flip_up_down(img)\n",
    "    \n",
    "    if label is None:\n",
    "        return img\n",
    "    else:\n",
    "        return img, label"
   ]
  },
  {
   "cell_type": "code",
   "execution_count": 12,
   "metadata": {
    "execution": {
     "iopub.execute_input": "2020-09-27T17:04:38.254741Z",
     "iopub.status.busy": "2020-09-27T17:04:38.253729Z",
     "iopub.status.idle": "2020-09-27T17:04:38.634804Z",
     "shell.execute_reply": "2020-09-27T17:04:38.634114Z"
    },
    "papermill": {
     "duration": 0.427559,
     "end_time": "2020-09-27T17:04:38.634917",
     "exception": false,
     "start_time": "2020-09-27T17:04:38.207358",
     "status": "completed"
    },
    "tags": []
   },
   "outputs": [],
   "source": [
    "AUTO = tf.data.experimental.AUTOTUNE\n",
    "BATCH_SIZE = 16 * strategy.num_replicas_in_sync\n",
    "\n",
    "train_dataset = (\n",
    "    tf.data.Dataset\n",
    "    .from_tensor_slices((train_img, train_labels))\n",
    "    .map(read_img, num_parallel_calls=AUTO)\n",
    "    .cache()\n",
    "    .map(data_aug, num_parallel_calls=AUTO)\n",
    "    .batch(BATCH_SIZE)\n",
    "    .prefetch(AUTO))\n",
    "\n",
    "valid_dataset = (\n",
    "    tf.data.Dataset\n",
    "    .from_tensor_slices((valid_img, valid_labels))\n",
    "    .map(read_img, num_parallel_calls=AUTO)\n",
    "    .cache()\n",
    "    .map(data_aug, num_parallel_calls=AUTO)\n",
    "    .batch(BATCH_SIZE)\n",
    "    .prefetch(AUTO))"
   ]
  },
  {
   "cell_type": "code",
   "execution_count": 13,
   "metadata": {
    "execution": {
     "iopub.execute_input": "2020-09-27T17:04:38.716343Z",
     "iopub.status.busy": "2020-09-27T17:04:38.715333Z",
     "iopub.status.idle": "2020-09-27T17:04:38.719606Z",
     "shell.execute_reply": "2020-09-27T17:04:38.718966Z"
    },
    "papermill": {
     "duration": 0.047363,
     "end_time": "2020-09-27T17:04:38.719716",
     "exception": false,
     "start_time": "2020-09-27T17:04:38.672353",
     "status": "completed"
    },
    "tags": []
   },
   "outputs": [
    {
     "data": {
      "text/plain": [
       "<PrefetchDataset shapes: ((None, 512, 512, 3), (None, 4)), types: (tf.float32, tf.int64)>"
      ]
     },
     "execution_count": 13,
     "metadata": {},
     "output_type": "execute_result"
    }
   ],
   "source": [
    "train_dataset"
   ]
  },
  {
   "cell_type": "markdown",
   "metadata": {
    "papermill": {
     "duration": 0.037622,
     "end_time": "2020-09-27T17:04:38.795764",
     "exception": false,
     "start_time": "2020-09-27T17:04:38.758142",
     "status": "completed"
    },
    "tags": []
   },
   "source": [
    "# Creating Our Model"
   ]
  },
  {
   "cell_type": "code",
   "execution_count": 14,
   "metadata": {
    "execution": {
     "iopub.execute_input": "2020-09-27T17:04:38.878383Z",
     "iopub.status.busy": "2020-09-27T17:04:38.877719Z",
     "iopub.status.idle": "2020-09-27T17:04:38.881209Z",
     "shell.execute_reply": "2020-09-27T17:04:38.880660Z"
    },
    "papermill": {
     "duration": 0.047846,
     "end_time": "2020-09-27T17:04:38.881343",
     "exception": false,
     "start_time": "2020-09-27T17:04:38.833497",
     "status": "completed"
    },
    "tags": []
   },
   "outputs": [],
   "source": [
    "def create_model():\n",
    "    return tf.keras.models.Sequential([\n",
    "        efn.EfficientNetB7(include_top=False, weights='imagenet', input_shape=(512, 512, 3)),\n",
    "        tf.keras.layers.GlobalAveragePooling2D(),\n",
    "        tf.keras.layers.Dense(4, activation='softmax')\n",
    "    ])"
   ]
  },
  {
   "cell_type": "code",
   "execution_count": 15,
   "metadata": {
    "execution": {
     "iopub.execute_input": "2020-09-27T17:04:38.961998Z",
     "iopub.status.busy": "2020-09-27T17:04:38.961292Z",
     "iopub.status.idle": "2020-09-27T17:04:38.963735Z",
     "shell.execute_reply": "2020-09-27T17:04:38.964263Z"
    },
    "papermill": {
     "duration": 0.044716,
     "end_time": "2020-09-27T17:04:38.964441",
     "exception": false,
     "start_time": "2020-09-27T17:04:38.919725",
     "status": "completed"
    },
    "tags": []
   },
   "outputs": [],
   "source": [
    "# with strategy.scope(): # to use TPU while training\n",
    "#     model = create_model()\n",
    "#     model.compile(optimizer='adam', loss='categorical_crossentropy', metrics=['accuracy', tf.keras.metrics.AUC(name='AUC')])\n",
    "#     model.summary()"
   ]
  },
  {
   "cell_type": "code",
   "execution_count": 16,
   "metadata": {
    "execution": {
     "iopub.execute_input": "2020-09-27T17:04:39.046586Z",
     "iopub.status.busy": "2020-09-27T17:04:39.045559Z",
     "iopub.status.idle": "2020-09-27T17:04:39.048913Z",
     "shell.execute_reply": "2020-09-27T17:04:39.048422Z"
    },
    "papermill": {
     "duration": 0.04573,
     "end_time": "2020-09-27T17:04:39.049021",
     "exception": false,
     "start_time": "2020-09-27T17:04:39.003291",
     "status": "completed"
    },
    "tags": []
   },
   "outputs": [],
   "source": [
    "# # Initlisazie wandb project\n",
    "# wandb.init(project='plant disease classification',\n",
    "#           notes='first tpu training & using efficient net b7',\n",
    "#           name='first-tpu-training')"
   ]
  },
  {
   "cell_type": "code",
   "execution_count": 17,
   "metadata": {
    "execution": {
     "iopub.execute_input": "2020-09-27T17:04:39.130204Z",
     "iopub.status.busy": "2020-09-27T17:04:39.129551Z",
     "iopub.status.idle": "2020-09-27T17:04:39.506526Z",
     "shell.execute_reply": "2020-09-27T17:04:39.505898Z"
    },
    "papermill": {
     "duration": 0.419411,
     "end_time": "2020-09-27T17:04:39.506647",
     "exception": false,
     "start_time": "2020-09-27T17:04:39.087236",
     "status": "completed"
    },
    "tags": []
   },
   "outputs": [
    {
     "ename": "Error",
     "evalue": "You must call wandb.init() before WandbCallback()",
     "output_type": "error",
     "traceback": [
      "\u001b[0;31m---------------------------------------------------------------------------\u001b[0m",
      "\u001b[0;31mError\u001b[0m                                     Traceback (most recent call last)",
      "\u001b[0;32m<ipython-input-17-439d915bb25a>\u001b[0m in \u001b[0;36m<module>\u001b[0;34m\u001b[0m\n\u001b[1;32m      1\u001b[0m \u001b[0;31m# Making the wandb callback\u001b[0m\u001b[0;34m\u001b[0m\u001b[0;34m\u001b[0m\u001b[0;34m\u001b[0m\u001b[0m\n\u001b[0;32m----> 2\u001b[0;31m \u001b[0mwandb_callback\u001b[0m \u001b[0;34m=\u001b[0m \u001b[0mWandbCallback\u001b[0m\u001b[0;34m(\u001b[0m\u001b[0;34m)\u001b[0m\u001b[0;34m\u001b[0m\u001b[0;34m\u001b[0m\u001b[0m\n\u001b[0m",
      "\u001b[0;32m/opt/conda/lib/python3.7/site-packages/wandb/integration/keras/keras.py\u001b[0m in \u001b[0;36m__init__\u001b[0;34m(self, monitor, verbose, mode, save_weights_only, log_weights, log_gradients, save_model, training_data, validation_data, labels, data_type, predictions, generator, input_type, output_type, log_evaluation, validation_steps, class_colors, log_batch_frequency, log_best_prefix, save_graph)\u001b[0m\n\u001b[1;32m    261\u001b[0m     ):\n\u001b[1;32m    262\u001b[0m         \u001b[0;32mif\u001b[0m \u001b[0mwandb\u001b[0m\u001b[0;34m.\u001b[0m\u001b[0mrun\u001b[0m \u001b[0;32mis\u001b[0m \u001b[0;32mNone\u001b[0m\u001b[0;34m:\u001b[0m\u001b[0;34m\u001b[0m\u001b[0;34m\u001b[0m\u001b[0m\n\u001b[0;32m--> 263\u001b[0;31m             \u001b[0;32mraise\u001b[0m \u001b[0mwandb\u001b[0m\u001b[0;34m.\u001b[0m\u001b[0mError\u001b[0m\u001b[0;34m(\u001b[0m\u001b[0;34m\"You must call wandb.init() before WandbCallback()\"\u001b[0m\u001b[0;34m)\u001b[0m\u001b[0;34m\u001b[0m\u001b[0;34m\u001b[0m\u001b[0m\n\u001b[0m\u001b[1;32m    264\u001b[0m \u001b[0;34m\u001b[0m\u001b[0m\n\u001b[1;32m    265\u001b[0m         \u001b[0mself\u001b[0m\u001b[0;34m.\u001b[0m\u001b[0mvalidation_data\u001b[0m \u001b[0;34m=\u001b[0m \u001b[0;32mNone\u001b[0m\u001b[0;34m\u001b[0m\u001b[0;34m\u001b[0m\u001b[0m\n",
      "\u001b[0;31mError\u001b[0m: You must call wandb.init() before WandbCallback()"
     ]
    }
   ],
   "source": [
    "# Making the wandb callback\n",
    "wandb_callback = WandbCallback()"
   ]
  },
  {
   "cell_type": "code",
   "execution_count": 18,
   "metadata": {
    "execution": {
     "iopub.execute_input": "2020-09-27T17:04:39.590303Z",
     "iopub.status.busy": "2020-09-27T17:04:39.589513Z",
     "iopub.status.idle": "2020-09-27T17:04:39.592731Z",
     "shell.execute_reply": "2020-09-27T17:04:39.592046Z"
    },
    "papermill": {
     "duration": 0.047183,
     "end_time": "2020-09-27T17:04:39.592861",
     "exception": false,
     "start_time": "2020-09-27T17:04:39.545678",
     "status": "completed"
    },
    "tags": []
   },
   "outputs": [],
   "source": [
    "EPOCHS = 20"
   ]
  },
  {
   "cell_type": "code",
   "execution_count": 19,
   "metadata": {
    "execution": {
     "iopub.execute_input": "2020-09-27T17:04:39.675802Z",
     "iopub.status.busy": "2020-09-27T17:04:39.674792Z",
     "iopub.status.idle": "2020-09-27T17:04:39.678557Z",
     "shell.execute_reply": "2020-09-27T17:04:39.677870Z"
    },
    "papermill": {
     "duration": 0.046942,
     "end_time": "2020-09-27T17:04:39.678683",
     "exception": false,
     "start_time": "2020-09-27T17:04:39.631741",
     "status": "completed"
    },
    "tags": []
   },
   "outputs": [],
   "source": [
    "# model.fit(train_dataset, epochs=EPOCHS, \n",
    "#           validation_data=valid_dataset, \n",
    "#           callbacks=[wandb_callback])"
   ]
  },
  {
   "cell_type": "markdown",
   "metadata": {
    "papermill": {
     "duration": 0.039231,
     "end_time": "2020-09-27T17:04:39.758086",
     "exception": false,
     "start_time": "2020-09-27T17:04:39.718855",
     "status": "completed"
    },
    "tags": []
   },
   "source": [
    "# Creating & Training Ensemble Models"
   ]
  },
  {
   "cell_type": "code",
   "execution_count": 20,
   "metadata": {
    "execution": {
     "iopub.execute_input": "2020-09-27T17:04:39.851227Z",
     "iopub.status.busy": "2020-09-27T17:04:39.850535Z",
     "iopub.status.idle": "2020-09-27T17:04:39.853385Z",
     "shell.execute_reply": "2020-09-27T17:04:39.854055Z"
    },
    "papermill": {
     "duration": 0.055369,
     "end_time": "2020-09-27T17:04:39.854196",
     "exception": false,
     "start_time": "2020-09-27T17:04:39.798827",
     "status": "completed"
    },
    "tags": []
   },
   "outputs": [],
   "source": [
    "# Creating our ensemble Model\n",
    "def create_ensemble_model():\n",
    "    \n",
    "    efficientnetb7 = tf.keras.models.Sequential([\n",
    "        efn.EfficientNetB7(include_top=False, weights='imagenet', input_shape=(512, 512, 3)),\n",
    "        tf.keras.layers.GlobalAveragePooling2D(),\n",
    "        tf.keras.layers.Dense(4, activation='softmax')\n",
    "    ])\n",
    "    \n",
    "    #efficientnetb7.layers[0].trainable = False\n",
    "    \n",
    "    xception = tf.keras.models.Sequential([\n",
    "        tf.keras.applications.xception.Xception(include_top=False, weights='imagenet', input_shape=(512, 512, 3)),\n",
    "        tf.keras.layers.GlobalAveragePooling2D(),\n",
    "        tf.keras.layers.Dense(4, activation='softmax')\n",
    "        \n",
    "    ])\n",
    "    \n",
    "    #xception.layers[0].trainable = False\n",
    "    \n",
    "    inputs = tf.keras.Input(shape=(512, 512, 3))\n",
    "    \n",
    "    efficientnetb7_output = efficientnetb7(inputs)\n",
    "    xception_output = xception(inputs)\n",
    "    \n",
    "    outputs = tf.keras.layers.average([efficientnetb7_output, xception_output])\n",
    "    \n",
    "    model = tf.keras.Model(inputs=inputs, outputs=outputs)\n",
    "    \n",
    "    return model"
   ]
  },
  {
   "cell_type": "code",
   "execution_count": 21,
   "metadata": {
    "execution": {
     "iopub.execute_input": "2020-09-27T17:04:39.955856Z",
     "iopub.status.busy": "2020-09-27T17:04:39.954829Z",
     "iopub.status.idle": "2020-09-27T17:04:39.957856Z",
     "shell.execute_reply": "2020-09-27T17:04:39.956981Z"
    },
    "papermill": {
     "duration": 0.064048,
     "end_time": "2020-09-27T17:04:39.958016",
     "exception": false,
     "start_time": "2020-09-27T17:04:39.893968",
     "status": "completed"
    },
    "tags": []
   },
   "outputs": [],
   "source": [
    "# with strategy.scope():\n",
    "#     model = create_ensemble_model()\n",
    "#     model.compile(optimizer='adam', loss = 'categorical_crossentropy', metrics=['accuracy', tf.keras.metrics.AUC(name='AUC')])\n",
    "#     model.summary()"
   ]
  },
  {
   "cell_type": "code",
   "execution_count": 22,
   "metadata": {
    "execution": {
     "iopub.execute_input": "2020-09-27T17:04:40.062030Z",
     "iopub.status.busy": "2020-09-27T17:04:40.061008Z",
     "iopub.status.idle": "2020-09-27T17:04:40.065024Z",
     "shell.execute_reply": "2020-09-27T17:04:40.064365Z"
    },
    "papermill": {
     "duration": 0.057656,
     "end_time": "2020-09-27T17:04:40.065136",
     "exception": false,
     "start_time": "2020-09-27T17:04:40.007480",
     "status": "completed"
    },
    "tags": []
   },
   "outputs": [],
   "source": [
    "# wandb.init(project='plant disease classification',\n",
    "#           name='tpu training ensemble',\n",
    "#           notes='Training our first ensemble model using TPU')"
   ]
  },
  {
   "cell_type": "code",
   "execution_count": 23,
   "metadata": {
    "execution": {
     "iopub.execute_input": "2020-09-27T17:04:40.188715Z",
     "iopub.status.busy": "2020-09-27T17:04:40.186544Z",
     "iopub.status.idle": "2020-09-27T17:04:40.194194Z",
     "shell.execute_reply": "2020-09-27T17:04:40.193307Z"
    },
    "papermill": {
     "duration": 0.081925,
     "end_time": "2020-09-27T17:04:40.194384",
     "exception": false,
     "start_time": "2020-09-27T17:04:40.112459",
     "status": "completed"
    },
    "tags": []
   },
   "outputs": [
    {
     "ename": "Error",
     "evalue": "You must call wandb.init() before WandbCallback()",
     "output_type": "error",
     "traceback": [
      "\u001b[0;31m---------------------------------------------------------------------------\u001b[0m",
      "\u001b[0;31mError\u001b[0m                                     Traceback (most recent call last)",
      "\u001b[0;32m<ipython-input-23-45ea2ef17e73>\u001b[0m in \u001b[0;36m<module>\u001b[0;34m\u001b[0m\n\u001b[0;32m----> 1\u001b[0;31m \u001b[0mwandb_callback\u001b[0m \u001b[0;34m=\u001b[0m \u001b[0mWandbCallback\u001b[0m\u001b[0;34m(\u001b[0m\u001b[0;34m)\u001b[0m\u001b[0;34m\u001b[0m\u001b[0;34m\u001b[0m\u001b[0m\n\u001b[0m",
      "\u001b[0;32m/opt/conda/lib/python3.7/site-packages/wandb/integration/keras/keras.py\u001b[0m in \u001b[0;36m__init__\u001b[0;34m(self, monitor, verbose, mode, save_weights_only, log_weights, log_gradients, save_model, training_data, validation_data, labels, data_type, predictions, generator, input_type, output_type, log_evaluation, validation_steps, class_colors, log_batch_frequency, log_best_prefix, save_graph)\u001b[0m\n\u001b[1;32m    261\u001b[0m     ):\n\u001b[1;32m    262\u001b[0m         \u001b[0;32mif\u001b[0m \u001b[0mwandb\u001b[0m\u001b[0;34m.\u001b[0m\u001b[0mrun\u001b[0m \u001b[0;32mis\u001b[0m \u001b[0;32mNone\u001b[0m\u001b[0;34m:\u001b[0m\u001b[0;34m\u001b[0m\u001b[0;34m\u001b[0m\u001b[0m\n\u001b[0;32m--> 263\u001b[0;31m             \u001b[0;32mraise\u001b[0m \u001b[0mwandb\u001b[0m\u001b[0;34m.\u001b[0m\u001b[0mError\u001b[0m\u001b[0;34m(\u001b[0m\u001b[0;34m\"You must call wandb.init() before WandbCallback()\"\u001b[0m\u001b[0;34m)\u001b[0m\u001b[0;34m\u001b[0m\u001b[0;34m\u001b[0m\u001b[0m\n\u001b[0m\u001b[1;32m    264\u001b[0m \u001b[0;34m\u001b[0m\u001b[0m\n\u001b[1;32m    265\u001b[0m         \u001b[0mself\u001b[0m\u001b[0;34m.\u001b[0m\u001b[0mvalidation_data\u001b[0m \u001b[0;34m=\u001b[0m \u001b[0;32mNone\u001b[0m\u001b[0;34m\u001b[0m\u001b[0;34m\u001b[0m\u001b[0m\n",
      "\u001b[0;31mError\u001b[0m: You must call wandb.init() before WandbCallback()"
     ]
    }
   ],
   "source": [
    "wandb_callback = WandbCallback()"
   ]
  },
  {
   "cell_type": "code",
   "execution_count": 24,
   "metadata": {
    "execution": {
     "iopub.execute_input": "2020-09-27T17:04:40.286849Z",
     "iopub.status.busy": "2020-09-27T17:04:40.285831Z",
     "iopub.status.idle": "2020-09-27T17:04:40.289322Z",
     "shell.execute_reply": "2020-09-27T17:04:40.288723Z"
    },
    "papermill": {
     "duration": 0.04743,
     "end_time": "2020-09-27T17:04:40.289456",
     "exception": false,
     "start_time": "2020-09-27T17:04:40.242026",
     "status": "completed"
    },
    "tags": []
   },
   "outputs": [],
   "source": [
    "# model.fit(train_dataset, epochs=20, validation_data=valid_dataset, callbacks=[wandb_callback])"
   ]
  },
  {
   "cell_type": "markdown",
   "metadata": {
    "papermill": {
     "duration": 0.039959,
     "end_time": "2020-09-27T17:04:40.374732",
     "exception": false,
     "start_time": "2020-09-27T17:04:40.334773",
     "status": "completed"
    },
    "tags": []
   },
   "source": [
    "# Hyperparameter Tuning"
   ]
  },
  {
   "cell_type": "code",
   "execution_count": 25,
   "metadata": {
    "execution": {
     "iopub.execute_input": "2020-09-27T17:04:40.463029Z",
     "iopub.status.busy": "2020-09-27T17:04:40.462063Z",
     "iopub.status.idle": "2020-09-27T17:04:40.465664Z",
     "shell.execute_reply": "2020-09-27T17:04:40.465055Z"
    },
    "papermill": {
     "duration": 0.048781,
     "end_time": "2020-09-27T17:04:40.465787",
     "exception": false,
     "start_time": "2020-09-27T17:04:40.417006",
     "status": "completed"
    },
    "tags": []
   },
   "outputs": [],
   "source": [
    "optimizers = ['adam', 'sgd']\n",
    "weights = ['imagenet', None]"
   ]
  },
  {
   "cell_type": "code",
   "execution_count": 26,
   "metadata": {
    "execution": {
     "iopub.execute_input": "2020-09-27T17:04:40.557707Z",
     "iopub.status.busy": "2020-09-27T17:04:40.556821Z",
     "iopub.status.idle": "2020-09-27T17:04:40.559730Z",
     "shell.execute_reply": "2020-09-27T17:04:40.559124Z"
    },
    "papermill": {
     "duration": 0.052896,
     "end_time": "2020-09-27T17:04:40.559842",
     "exception": false,
     "start_time": "2020-09-27T17:04:40.506946",
     "status": "completed"
    },
    "tags": []
   },
   "outputs": [],
   "source": [
    "def create_model(weight):\n",
    "    return tf.keras.models.Sequential([\n",
    "        efn.EfficientNetB7(include_top=False, weights=weight, input_shape=(512, 512, 3)),\n",
    "        tf.keras.layers.GlobalAveragePooling2D(),\n",
    "        tf.keras.layers.Dense(4, activation='softmax')])"
   ]
  },
  {
   "cell_type": "code",
   "execution_count": 27,
   "metadata": {
    "execution": {
     "iopub.execute_input": "2020-09-27T17:04:40.647539Z",
     "iopub.status.busy": "2020-09-27T17:04:40.646547Z",
     "iopub.status.idle": "2020-09-27T17:04:40.649288Z",
     "shell.execute_reply": "2020-09-27T17:04:40.648681Z"
    },
    "papermill": {
     "duration": 0.048883,
     "end_time": "2020-09-27T17:04:40.649427",
     "exception": false,
     "start_time": "2020-09-27T17:04:40.600544",
     "status": "completed"
    },
    "tags": []
   },
   "outputs": [],
   "source": [
    "# for optimizer in optimizers:\n",
    "    \n",
    "#     for weight in weights:\n",
    "        \n",
    "#         with strategy.scope():\n",
    "        \n",
    "#             model = create_model(weight)\n",
    "            \n",
    "#             model.compile(optimizer=optimizer, loss='categorical_crossentropy', metrics=['accuracy', tf.keras.metrics.AUC(name='AUC')])\n",
    "            \n",
    "#             model.summary()\n",
    "            \n",
    "        \n",
    "#         config = {'optimizer':optimizer, 'weight':weight}\n",
    "        \n",
    "#         print(config)\n",
    "        \n",
    "#         wandb.init(project='plant disease classification', config=config, name=f'hyper-tune-optm-{optimizer}-weight-{weight}')\n",
    "        \n",
    "#         wandb_callback = WandbCallback()\n",
    "        \n",
    "#         model.fit(train_dataset, epochs=20, validation_data=valid_dataset, callbacks=[wandb_callback])\n",
    "        \n",
    "        \n",
    "#         tf.tpu.experimental.initialize_tpu_system(tpu)"
   ]
  },
  {
   "cell_type": "markdown",
   "metadata": {
    "papermill": {
     "duration": 0.04016,
     "end_time": "2020-09-27T17:04:40.730112",
     "exception": false,
     "start_time": "2020-09-27T17:04:40.689952",
     "status": "completed"
    },
    "tags": []
   },
   "source": [
    "# BIG Hyperparameter Tuning"
   ]
  },
  {
   "cell_type": "code",
   "execution_count": 28,
   "metadata": {
    "execution": {
     "iopub.execute_input": "2020-09-27T17:04:40.818643Z",
     "iopub.status.busy": "2020-09-27T17:04:40.817980Z",
     "iopub.status.idle": "2020-09-27T17:04:40.820515Z",
     "shell.execute_reply": "2020-09-27T17:04:40.820991Z"
    },
    "papermill": {
     "duration": 0.049967,
     "end_time": "2020-09-27T17:04:40.821133",
     "exception": false,
     "start_time": "2020-09-27T17:04:40.771166",
     "status": "completed"
    },
    "tags": []
   },
   "outputs": [],
   "source": [
    "learning_rate = [0.0001, 0.005, 0.05, 0.1, 0.3] # 0.001 - Default LR"
   ]
  },
  {
   "cell_type": "code",
   "execution_count": 29,
   "metadata": {
    "execution": {
     "iopub.execute_input": "2020-09-27T17:04:40.909183Z",
     "iopub.status.busy": "2020-09-27T17:04:40.908572Z",
     "iopub.status.idle": "2020-09-27T17:04:40.911216Z",
     "shell.execute_reply": "2020-09-27T17:04:40.911834Z"
    },
    "papermill": {
     "duration": 0.050099,
     "end_time": "2020-09-27T17:04:40.911969",
     "exception": false,
     "start_time": "2020-09-27T17:04:40.861870",
     "status": "completed"
    },
    "tags": []
   },
   "outputs": [],
   "source": [
    "def create_model():\n",
    "    return tf.keras.models.Sequential([\n",
    "        efn.EfficientNetB7(include_top=False, weights='imagenet', input_shape=(512, 512, 3)),\n",
    "        tf.keras.layers.GlobalAveragePooling2D(),\n",
    "        tf.keras.layers.Dense(4, activation='softmax')\n",
    "    ])"
   ]
  },
  {
   "cell_type": "code",
   "execution_count": 30,
   "metadata": {
    "execution": {
     "iopub.execute_input": "2020-09-27T17:04:41.003715Z",
     "iopub.status.busy": "2020-09-27T17:04:41.001868Z",
     "iopub.status.idle": "2020-09-27T18:20:07.230177Z",
     "shell.execute_reply": "2020-09-27T18:20:07.229550Z"
    },
    "papermill": {
     "duration": 4526.277584,
     "end_time": "2020-09-27T18:20:07.230296",
     "exception": false,
     "start_time": "2020-09-27T17:04:40.952712",
     "status": "completed"
    },
    "tags": []
   },
   "outputs": [
    {
     "name": "stdout",
     "output_type": "stream",
     "text": [
      "Downloading data from https://github.com/Callidior/keras-applications/releases/download/efficientnet/efficientnet-b7_weights_tf_dim_ordering_tf_kernels_autoaugment_notop.h5\n",
      "258441216/258434480 [==============================] - 4s 0us/step\n",
      "{'learning rate': 0.0001}\n"
     ]
    },
    {
     "name": "stderr",
     "output_type": "stream",
     "text": [
      "\u001b[34m\u001b[1mwandb\u001b[0m: Currently logged in as: \u001b[33mshubhamai\u001b[0m (use `wandb login --relogin` to force relogin)\n",
      "\u001b[34m\u001b[1mwandb\u001b[0m: Tracking run with wandb version 0.10.2\n",
      "\u001b[34m\u001b[1mwandb\u001b[0m: Run data is saved locally in wandb/run-20200927_170554-kgyx2j2e\n",
      "\u001b[34m\u001b[1mwandb\u001b[0m: Syncing run \u001b[33mhyper-tune-lr-0.0001\u001b[0m\n"
     ]
    },
    {
     "data": {
      "text/html": [
       "\n",
       "                Logging results to <a href=\"https://wandb.com\" target=\"_blank\">Weights & Biases</a> <a href=\"https://docs.wandb.com/integrations/jupyter.html\" target=\"_blank\">(Documentation)</a>.<br/>\n",
       "                Project page: <a href=\"https://wandb.ai/shubhamai/plant%20disease%20classification\" target=\"_blank\">https://wandb.ai/shubhamai/plant%20disease%20classification</a><br/>\n",
       "                Run page: <a href=\"https://wandb.ai/shubhamai/plant%20disease%20classification/runs/kgyx2j2e\" target=\"_blank\">https://wandb.ai/shubhamai/plant%20disease%20classification/runs/kgyx2j2e</a><br/>\n",
       "            "
      ],
      "text/plain": [
       "<IPython.core.display.HTML object>"
      ]
     },
     "metadata": {},
     "output_type": "display_data"
    },
    {
     "name": "stdout",
     "output_type": "stream",
     "text": [
      "\n",
      "Epoch 1/30\n",
      "13/13 [==============================] - 192s 15s/step - loss: 1.1830 - AUC: 0.8032 - accuracy: 0.5690 - val_loss: 1.1292 - val_AUC: 0.8430 - val_accuracy: 0.6011\n",
      "Epoch 2/30\n",
      "13/13 [==============================] - 12s 952ms/step - loss: 0.5643 - AUC: 0.9598 - accuracy: 0.8620 - val_loss: 0.6271 - val_AUC: 0.9341 - val_accuracy: 0.7541\n",
      "Epoch 3/30\n",
      "13/13 [==============================] - 13s 994ms/step - loss: 0.2779 - AUC: 0.9849 - accuracy: 0.9164 - val_loss: 0.6499 - val_AUC: 0.9398 - val_accuracy: 0.7814\n",
      "Epoch 4/30\n",
      "13/13 [==============================] - 12s 912ms/step - loss: 0.2150 - AUC: 0.9901 - accuracy: 0.9280 - val_loss: 0.5819 - val_AUC: 0.9486 - val_accuracy: 0.7923\n",
      "Epoch 5/30\n",
      "13/13 [==============================] - 12s 917ms/step - loss: 0.1648 - AUC: 0.9948 - accuracy: 0.9481 - val_loss: 0.4348 - val_AUC: 0.9685 - val_accuracy: 0.8361\n",
      "Epoch 6/30\n",
      "13/13 [==============================] - 12s 922ms/step - loss: 0.1452 - AUC: 0.9959 - accuracy: 0.9548 - val_loss: 0.4186 - val_AUC: 0.9704 - val_accuracy: 0.8634\n",
      "Epoch 7/30\n",
      "13/13 [==============================] - 12s 918ms/step - loss: 0.1127 - AUC: 0.9979 - accuracy: 0.9670 - val_loss: 0.4126 - val_AUC: 0.9688 - val_accuracy: 0.8852\n",
      "Epoch 8/30\n",
      "13/13 [==============================] - 12s 916ms/step - loss: 0.0840 - AUC: 0.9991 - accuracy: 0.9725 - val_loss: 0.3680 - val_AUC: 0.9705 - val_accuracy: 0.8962\n",
      "Epoch 9/30\n",
      "13/13 [==============================] - 12s 917ms/step - loss: 0.0733 - AUC: 0.9993 - accuracy: 0.9786 - val_loss: 0.4001 - val_AUC: 0.9695 - val_accuracy: 0.9126\n",
      "Epoch 10/30\n",
      "13/13 [==============================] - 12s 920ms/step - loss: 0.0617 - AUC: 0.9994 - accuracy: 0.9823 - val_loss: 0.3015 - val_AUC: 0.9807 - val_accuracy: 0.9290\n",
      "Epoch 11/30\n",
      "13/13 [==============================] - 12s 918ms/step - loss: 0.0460 - AUC: 0.9998 - accuracy: 0.9902 - val_loss: 0.2804 - val_AUC: 0.9824 - val_accuracy: 0.9290\n",
      "Epoch 12/30\n",
      "13/13 [==============================] - 12s 916ms/step - loss: 0.0432 - AUC: 0.9997 - accuracy: 0.9860 - val_loss: 0.3478 - val_AUC: 0.9727 - val_accuracy: 0.9180\n",
      "Epoch 13/30\n",
      "13/13 [==============================] - 13s 1s/step - loss: 0.0315 - AUC: 0.9999 - accuracy: 0.9951 - val_loss: 0.3783 - val_AUC: 0.9746 - val_accuracy: 0.9126\n",
      "Epoch 14/30\n",
      "13/13 [==============================] - 12s 915ms/step - loss: 0.0287 - AUC: 0.9999 - accuracy: 0.9951 - val_loss: 0.4257 - val_AUC: 0.9694 - val_accuracy: 0.9071\n",
      "Epoch 15/30\n",
      "13/13 [==============================] - 12s 915ms/step - loss: 0.0191 - AUC: 1.0000 - accuracy: 0.9982 - val_loss: 0.3581 - val_AUC: 0.9703 - val_accuracy: 0.9126\n",
      "Epoch 16/30\n",
      "13/13 [==============================] - 12s 922ms/step - loss: 0.0228 - AUC: 0.9999 - accuracy: 0.9957 - val_loss: 0.3205 - val_AUC: 0.9778 - val_accuracy: 0.9290\n",
      "Epoch 17/30\n",
      "13/13 [==============================] - 12s 923ms/step - loss: 0.0173 - AUC: 1.0000 - accuracy: 0.9951 - val_loss: 0.3580 - val_AUC: 0.9747 - val_accuracy: 0.9508\n",
      "Epoch 18/30\n",
      "13/13 [==============================] - 12s 915ms/step - loss: 0.0192 - AUC: 0.9999 - accuracy: 0.9969 - val_loss: 0.2990 - val_AUC: 0.9796 - val_accuracy: 0.9563\n",
      "Epoch 19/30\n",
      "13/13 [==============================] - 12s 920ms/step - loss: 0.0141 - AUC: 1.0000 - accuracy: 0.9969 - val_loss: 0.2605 - val_AUC: 0.9836 - val_accuracy: 0.9563\n",
      "Epoch 20/30\n",
      "13/13 [==============================] - 12s 918ms/step - loss: 0.0106 - AUC: 1.0000 - accuracy: 0.9982 - val_loss: 0.2225 - val_AUC: 0.9874 - val_accuracy: 0.9617\n",
      "Epoch 21/30\n",
      "13/13 [==============================] - 12s 917ms/step - loss: 0.0103 - AUC: 1.0000 - accuracy: 0.9988 - val_loss: 0.1957 - val_AUC: 0.9908 - val_accuracy: 0.9563\n",
      "Epoch 22/30\n",
      "13/13 [==============================] - 12s 922ms/step - loss: 0.0081 - AUC: 1.0000 - accuracy: 0.9982 - val_loss: 0.2001 - val_AUC: 0.9910 - val_accuracy: 0.9672\n",
      "Epoch 23/30\n",
      "13/13 [==============================] - 12s 916ms/step - loss: 0.0107 - AUC: 1.0000 - accuracy: 0.9988 - val_loss: 0.2145 - val_AUC: 0.9906 - val_accuracy: 0.9563\n",
      "Epoch 24/30\n",
      "13/13 [==============================] - 12s 914ms/step - loss: 0.0100 - AUC: 1.0000 - accuracy: 0.9988 - val_loss: 0.2002 - val_AUC: 0.9913 - val_accuracy: 0.9617\n",
      "Epoch 25/30\n",
      "13/13 [==============================] - 12s 913ms/step - loss: 0.0059 - AUC: 1.0000 - accuracy: 1.0000 - val_loss: 0.1822 - val_AUC: 0.9917 - val_accuracy: 0.9617\n",
      "Epoch 26/30\n",
      "13/13 [==============================] - 12s 918ms/step - loss: 0.0102 - AUC: 1.0000 - accuracy: 0.9976 - val_loss: 0.2011 - val_AUC: 0.9885 - val_accuracy: 0.9727\n",
      "Epoch 27/30\n",
      "13/13 [==============================] - 12s 918ms/step - loss: 0.0091 - AUC: 1.0000 - accuracy: 0.9969 - val_loss: 0.1617 - val_AUC: 0.9922 - val_accuracy: 0.9727\n",
      "Epoch 28/30\n",
      "13/13 [==============================] - 12s 915ms/step - loss: 0.0086 - AUC: 1.0000 - accuracy: 0.9976 - val_loss: 0.1758 - val_AUC: 0.9921 - val_accuracy: 0.9672\n",
      "Epoch 29/30\n",
      "13/13 [==============================] - 12s 914ms/step - loss: 0.0098 - AUC: 1.0000 - accuracy: 0.9969 - val_loss: 0.1580 - val_AUC: 0.9922 - val_accuracy: 0.9727\n",
      "Epoch 30/30\n",
      "13/13 [==============================] - 12s 919ms/step - loss: 0.0044 - AUC: 1.0000 - accuracy: 1.0000 - val_loss: 0.1649 - val_AUC: 0.9920 - val_accuracy: 0.9727\n"
     ]
    },
    {
     "name": "stderr",
     "output_type": "stream",
     "text": [
      "\u001b[34m\u001b[1mwandb\u001b[0m: Waiting for W&B process to finish, PID 179\n",
      "\u001b[34m\u001b[1mwandb\u001b[0m: Program ended successfully.\n",
      "\u001b[34m\u001b[1mwandb\u001b[0m: - 0.00MB of 0.00MB uploaded (0.00MB deduped)\r"
     ]
    },
    {
     "name": "stdout",
     "output_type": "stream",
     "text": [
      "{'learning rate': 0.005}\n",
      "\n"
     ]
    },
    {
     "name": "stderr",
     "output_type": "stream",
     "text": [
      "\u001b[34m\u001b[1mwandb\u001b[0m:                                                                                \n",
      "\u001b[34m\u001b[1mwandb\u001b[0m: Find user logs for this run at: wandb/run-20200927_170554-kgyx2j2e/logs/debug.log\n",
      "\u001b[34m\u001b[1mwandb\u001b[0m: Find internal logs for this run at: wandb/run-20200927_170554-kgyx2j2e/logs/debug-internal.log\n",
      "\u001b[34m\u001b[1mwandb\u001b[0m: Run summary:\n",
      "\u001b[34m\u001b[1mwandb\u001b[0m:           epoch 29\n",
      "\u001b[34m\u001b[1mwandb\u001b[0m:            loss 0.004360037390142679\n",
      "\u001b[34m\u001b[1mwandb\u001b[0m:             AUC 0.9999997615814209\n",
      "\u001b[34m\u001b[1mwandb\u001b[0m:        accuracy 1.0\n",
      "\u001b[34m\u001b[1mwandb\u001b[0m:        val_loss 0.16489027440547943\n",
      "\u001b[34m\u001b[1mwandb\u001b[0m:         val_AUC 0.9920473098754883\n",
      "\u001b[34m\u001b[1mwandb\u001b[0m:    val_accuracy 0.9726776480674744\n",
      "\u001b[34m\u001b[1mwandb\u001b[0m:           _step 29\n",
      "\u001b[34m\u001b[1mwandb\u001b[0m:        _runtime 856\n",
      "\u001b[34m\u001b[1mwandb\u001b[0m:      _timestamp 1601227211\n",
      "\u001b[34m\u001b[1mwandb\u001b[0m:   best_val_loss 0.1580296903848648\n",
      "\u001b[34m\u001b[1mwandb\u001b[0m:      best_epoch 28\n",
      "\u001b[34m\u001b[1mwandb\u001b[0m: Run history:\n",
      "\u001b[34m\u001b[1mwandb\u001b[0m:          epoch ▁▁▁▂▂▂▂▃▃▃▃▄▄▄▄▅▅▅▅▆▆▆▆▇▇▇▇███\n",
      "\u001b[34m\u001b[1mwandb\u001b[0m:           loss █▄▃▂▂▂▂▁▁▁▁▁▁▁▁▁▁▁▁▁▁▁▁▁▁▁▁▁▁▁\n",
      "\u001b[34m\u001b[1mwandb\u001b[0m:            AUC ▁▇▇███████████████████████████\n",
      "\u001b[34m\u001b[1mwandb\u001b[0m:       accuracy ▁▆▇▇▇▇▇███████████████████████\n",
      "\u001b[34m\u001b[1mwandb\u001b[0m:       val_loss █▄▅▄▃▃▃▃▃▂▂▂▃▃▂▂▂▂▂▁▁▁▁▁▁▁▁▁▁▁\n",
      "\u001b[34m\u001b[1mwandb\u001b[0m:        val_AUC ▁▅▆▆▇▇▇▇▇▇█▇▇▇▇▇▇▇████████████\n",
      "\u001b[34m\u001b[1mwandb\u001b[0m:   val_accuracy ▁▄▄▅▅▆▆▇▇▇▇▇▇▇▇▇██████████████\n",
      "\u001b[34m\u001b[1mwandb\u001b[0m:          _step ▁▁▁▂▂▂▂▃▃▃▃▄▄▄▄▅▅▅▅▆▆▆▆▇▇▇▇███\n",
      "\u001b[34m\u001b[1mwandb\u001b[0m:       _runtime ▁▁▂▂▂▂▂▃▃▃▃▄▄▄▄▅▅▅▅▆▆▆▆▇▇▇▇███\n",
      "\u001b[34m\u001b[1mwandb\u001b[0m:     _timestamp ▁▁▂▂▂▂▂▃▃▃▃▄▄▄▄▅▅▅▅▆▆▆▆▇▇▇▇███\n",
      "\u001b[34m\u001b[1mwandb\u001b[0m: Synced 5 W&B file(s), 1 media file(s), 0 artifact file(s) and 0 other file(s)\n",
      "\u001b[34m\u001b[1mwandb\u001b[0m: \n",
      "\u001b[34m\u001b[1mwandb\u001b[0m: Synced \u001b[33mhyper-tune-lr-0.0001\u001b[0m: \u001b[34mhttps://wandb.ai/shubhamai/plant%20disease%20classification/runs/kgyx2j2e\u001b[0m\n",
      "\u001b[34m\u001b[1mwandb\u001b[0m: Tracking run with wandb version 0.10.2\n",
      "\u001b[34m\u001b[1mwandb\u001b[0m: Run data is saved locally in wandb/run-20200927_172116-89625re0\n",
      "\u001b[34m\u001b[1mwandb\u001b[0m: Syncing run \u001b[33mhyper-tune-lr-0.005\u001b[0m\n"
     ]
    },
    {
     "data": {
      "text/html": [
       "\n",
       "                Logging results to <a href=\"https://wandb.com\" target=\"_blank\">Weights & Biases</a> <a href=\"https://docs.wandb.com/integrations/jupyter.html\" target=\"_blank\">(Documentation)</a>.<br/>\n",
       "                Project page: <a href=\"https://wandb.ai/shubhamai/plant%20disease%20classification\" target=\"_blank\">https://wandb.ai/shubhamai/plant%20disease%20classification</a><br/>\n",
       "                Run page: <a href=\"https://wandb.ai/shubhamai/plant%20disease%20classification/runs/89625re0\" target=\"_blank\">https://wandb.ai/shubhamai/plant%20disease%20classification/runs/89625re0</a><br/>\n",
       "            "
      ],
      "text/plain": [
       "<IPython.core.display.HTML object>"
      ]
     },
     "metadata": {},
     "output_type": "display_data"
    },
    {
     "name": "stdout",
     "output_type": "stream",
     "text": [
      "\n",
      "Epoch 1/30\n",
      "13/13 [==============================] - 179s 14s/step - loss: 1.0752 - AUC: 0.8632 - accuracy: 0.6569 - val_loss: 19556505600.0000 - val_AUC: 0.4026 - val_accuracy: 0.1038\n",
      "Epoch 2/30\n",
      "13/13 [==============================] - 12s 929ms/step - loss: 0.4792 - AUC: 0.9578 - accuracy: 0.8547 - val_loss: 12659724288.0000 - val_AUC: 0.5519 - val_accuracy: 0.3279\n",
      "Epoch 3/30\n",
      "13/13 [==============================] - 12s 923ms/step - loss: 0.3422 - AUC: 0.9750 - accuracy: 0.8999 - val_loss: 614750656.0000 - val_AUC: 0.5519 - val_accuracy: 0.3279\n",
      "Epoch 4/30\n",
      "13/13 [==============================] - 12s 921ms/step - loss: 0.3046 - AUC: 0.9809 - accuracy: 0.9127 - val_loss: 386726.3750 - val_AUC: 0.5556 - val_accuracy: 0.3333\n",
      "Epoch 5/30\n",
      "13/13 [==============================] - 12s 920ms/step - loss: 0.2443 - AUC: 0.9866 - accuracy: 0.9267 - val_loss: 97837.1875 - val_AUC: 0.5410 - val_accuracy: 0.3115\n",
      "Epoch 6/30\n",
      "13/13 [==============================] - 12s 926ms/step - loss: 0.2458 - AUC: 0.9860 - accuracy: 0.9274 - val_loss: 6201.0454 - val_AUC: 0.5443 - val_accuracy: 0.3169\n",
      "Epoch 7/30\n",
      "13/13 [==============================] - 12s 921ms/step - loss: 0.2245 - AUC: 0.9888 - accuracy: 0.9267 - val_loss: 8763.5361 - val_AUC: 0.5519 - val_accuracy: 0.3279\n",
      "Epoch 8/30\n",
      "13/13 [==============================] - 12s 926ms/step - loss: 0.2233 - AUC: 0.9878 - accuracy: 0.9390 - val_loss: 717.4305 - val_AUC: 0.5556 - val_accuracy: 0.3333\n",
      "Epoch 9/30\n",
      "13/13 [==============================] - 12s 920ms/step - loss: 0.2392 - AUC: 0.9864 - accuracy: 0.9322 - val_loss: 372.0204 - val_AUC: 0.5623 - val_accuracy: 0.3443\n",
      "Epoch 10/30\n",
      "13/13 [==============================] - 12s 926ms/step - loss: 0.2070 - AUC: 0.9899 - accuracy: 0.9298 - val_loss: 15.6087 - val_AUC: 0.6746 - val_accuracy: 0.4699\n",
      "Epoch 11/30\n",
      "13/13 [==============================] - 12s 930ms/step - loss: 0.1776 - AUC: 0.9930 - accuracy: 0.9359 - val_loss: 56.9430 - val_AUC: 0.6100 - val_accuracy: 0.4098\n",
      "Epoch 12/30\n",
      "13/13 [==============================] - 12s 921ms/step - loss: 0.1297 - AUC: 0.9953 - accuracy: 0.9579 - val_loss: 24.9523 - val_AUC: 0.5143 - val_accuracy: 0.2842\n",
      "Epoch 13/30\n",
      "13/13 [==============================] - 12s 919ms/step - loss: 0.1560 - AUC: 0.9943 - accuracy: 0.9438 - val_loss: 56.5504 - val_AUC: 0.6037 - val_accuracy: 0.3880\n",
      "Epoch 14/30\n",
      "13/13 [==============================] - 12s 911ms/step - loss: 0.1488 - AUC: 0.9935 - accuracy: 0.9554 - val_loss: 10.6411 - val_AUC: 0.5783 - val_accuracy: 0.3661\n",
      "Epoch 15/30\n",
      "13/13 [==============================] - 12s 918ms/step - loss: 0.2606 - AUC: 0.9874 - accuracy: 0.9249 - val_loss: 171.8182 - val_AUC: 0.5402 - val_accuracy: 0.3169\n",
      "Epoch 16/30\n",
      "13/13 [==============================] - 12s 919ms/step - loss: 0.2021 - AUC: 0.9907 - accuracy: 0.9414 - val_loss: 99.7119 - val_AUC: 0.5512 - val_accuracy: 0.3224\n",
      "Epoch 17/30\n",
      "13/13 [==============================] - 12s 920ms/step - loss: 0.1797 - AUC: 0.9919 - accuracy: 0.9524 - val_loss: 358.0021 - val_AUC: 0.5470 - val_accuracy: 0.3169\n",
      "Epoch 18/30\n",
      "13/13 [==============================] - 12s 922ms/step - loss: 0.1310 - AUC: 0.9947 - accuracy: 0.9585 - val_loss: 404.8612 - val_AUC: 0.5437 - val_accuracy: 0.3169\n",
      "Epoch 19/30\n",
      "13/13 [==============================] - 12s 923ms/step - loss: 0.1114 - AUC: 0.9951 - accuracy: 0.9670 - val_loss: 17.5039 - val_AUC: 0.7172 - val_accuracy: 0.4918\n",
      "Epoch 20/30\n",
      "13/13 [==============================] - 12s 918ms/step - loss: 0.1342 - AUC: 0.9948 - accuracy: 0.9573 - val_loss: 2.2473 - val_AUC: 0.8481 - val_accuracy: 0.6393\n",
      "Epoch 21/30\n",
      "13/13 [==============================] - 12s 919ms/step - loss: 0.0973 - AUC: 0.9978 - accuracy: 0.9646 - val_loss: 5.9991 - val_AUC: 0.7926 - val_accuracy: 0.6230\n",
      "Epoch 22/30\n",
      "13/13 [==============================] - 12s 923ms/step - loss: 0.0870 - AUC: 0.9982 - accuracy: 0.9689 - val_loss: 2.4607 - val_AUC: 0.8876 - val_accuracy: 0.7650\n",
      "Epoch 23/30\n",
      "13/13 [==============================] - 12s 928ms/step - loss: 0.0822 - AUC: 0.9972 - accuracy: 0.9750 - val_loss: 5.4328 - val_AUC: 0.9013 - val_accuracy: 0.8251\n",
      "Epoch 24/30\n",
      "13/13 [==============================] - 12s 924ms/step - loss: 0.0871 - AUC: 0.9978 - accuracy: 0.9707 - val_loss: 1.1303 - val_AUC: 0.9411 - val_accuracy: 0.8743\n",
      "Epoch 25/30\n",
      "13/13 [==============================] - 12s 925ms/step - loss: 0.0856 - AUC: 0.9979 - accuracy: 0.9713 - val_loss: 11.1211 - val_AUC: 0.8052 - val_accuracy: 0.6776\n",
      "Epoch 26/30\n",
      "13/13 [==============================] - 12s 921ms/step - loss: 0.0990 - AUC: 0.9959 - accuracy: 0.9707 - val_loss: 16.3824 - val_AUC: 0.5859 - val_accuracy: 0.3934\n",
      "Epoch 27/30\n",
      "13/13 [==============================] - 12s 920ms/step - loss: 0.0742 - AUC: 0.9979 - accuracy: 0.9756 - val_loss: 3.2057 - val_AUC: 0.8016 - val_accuracy: 0.6448\n",
      "Epoch 28/30\n",
      "13/13 [==============================] - 12s 919ms/step - loss: 0.0681 - AUC: 0.9980 - accuracy: 0.9786 - val_loss: 2.9534 - val_AUC: 0.7735 - val_accuracy: 0.5738\n",
      "Epoch 29/30\n",
      "13/13 [==============================] - 12s 916ms/step - loss: 0.1013 - AUC: 0.9964 - accuracy: 0.9683 - val_loss: 0.8234 - val_AUC: 0.9540 - val_accuracy: 0.8525\n",
      "Epoch 30/30\n",
      "13/13 [==============================] - 12s 922ms/step - loss: 0.0994 - AUC: 0.9972 - accuracy: 0.9689 - val_loss: 0.6694 - val_AUC: 0.9532 - val_accuracy: 0.8525\n"
     ]
    },
    {
     "name": "stderr",
     "output_type": "stream",
     "text": [
      "\u001b[34m\u001b[1mwandb\u001b[0m: Waiting for W&B process to finish, PID 206\n",
      "\u001b[34m\u001b[1mwandb\u001b[0m: Program ended successfully.\n",
      "\u001b[34m\u001b[1mwandb\u001b[0m: - 0.00MB of 0.00MB uploaded (0.00MB deduped)\r"
     ]
    },
    {
     "name": "stdout",
     "output_type": "stream",
     "text": [
      "{'learning rate': 0.05}\n",
      "\n"
     ]
    },
    {
     "name": "stderr",
     "output_type": "stream",
     "text": [
      "\u001b[34m\u001b[1mwandb\u001b[0m:                                                                                \n",
      "\u001b[34m\u001b[1mwandb\u001b[0m: Find user logs for this run at: wandb/run-20200927_172116-89625re0/logs/debug.log\n",
      "\u001b[34m\u001b[1mwandb\u001b[0m: Find internal logs for this run at: wandb/run-20200927_172116-89625re0/logs/debug-internal.log\n",
      "\u001b[34m\u001b[1mwandb\u001b[0m: Run summary:\n",
      "\u001b[34m\u001b[1mwandb\u001b[0m:           epoch 29\n",
      "\u001b[34m\u001b[1mwandb\u001b[0m:            loss 0.09940090775489807\n",
      "\u001b[34m\u001b[1mwandb\u001b[0m:             AUC 0.9971916079521179\n",
      "\u001b[34m\u001b[1mwandb\u001b[0m:        accuracy 0.9688645005226135\n",
      "\u001b[34m\u001b[1mwandb\u001b[0m:        val_loss 0.6693896055221558\n",
      "\u001b[34m\u001b[1mwandb\u001b[0m:         val_AUC 0.9532135128974915\n",
      "\u001b[34m\u001b[1mwandb\u001b[0m:    val_accuracy 0.8524590730667114\n",
      "\u001b[34m\u001b[1mwandb\u001b[0m:           _step 29\n",
      "\u001b[34m\u001b[1mwandb\u001b[0m:        _runtime 825\n",
      "\u001b[34m\u001b[1mwandb\u001b[0m:      _timestamp 1601228105\n",
      "\u001b[34m\u001b[1mwandb\u001b[0m:   best_val_loss 0.6693896055221558\n",
      "\u001b[34m\u001b[1mwandb\u001b[0m:      best_epoch 29\n",
      "\u001b[34m\u001b[1mwandb\u001b[0m: Run history:\n",
      "\u001b[34m\u001b[1mwandb\u001b[0m:          epoch ▁▁▁▂▂▂▂▃▃▃▃▄▄▄▄▅▅▅▅▆▆▆▆▇▇▇▇███\n",
      "\u001b[34m\u001b[1mwandb\u001b[0m:           loss █▄▃▃▂▂▂▂▂▂▂▁▂▂▂▂▂▁▁▁▁▁▁▁▁▁▁▁▁▁\n",
      "\u001b[34m\u001b[1mwandb\u001b[0m:            AUC ▁▆▇▇▇▇█▇▇█████▇███████████████\n",
      "\u001b[34m\u001b[1mwandb\u001b[0m:       accuracy ▁▅▆▇▇▇▇▇▇▇▇█▇▇▇▇▇█████████████\n",
      "\u001b[34m\u001b[1mwandb\u001b[0m:       val_loss █▆▁▁▁▁▁▁▁▁▁▁▁▁▁▁▁▁▁▁▁▁▁▁▁▁▁▁▁▁\n",
      "\u001b[34m\u001b[1mwandb\u001b[0m:        val_AUC ▁▃▃▃▃▃▃▃▃▄▄▂▄▃▃▃▃▃▅▇▆▇▇█▆▃▆▆██\n",
      "\u001b[34m\u001b[1mwandb\u001b[0m:   val_accuracy ▁▃▃▃▃▃▃▃▃▄▄▃▄▃▃▃▃▃▅▆▆▇██▆▄▆▅██\n",
      "\u001b[34m\u001b[1mwandb\u001b[0m:          _step ▁▁▁▂▂▂▂▃▃▃▃▄▄▄▄▅▅▅▅▆▆▆▆▇▇▇▇███\n",
      "\u001b[34m\u001b[1mwandb\u001b[0m:       _runtime ▁▁▁▂▂▂▂▃▃▃▃▄▄▄▄▅▅▅▅▆▆▆▆▇▇▇▇███\n",
      "\u001b[34m\u001b[1mwandb\u001b[0m:     _timestamp ▁▁▁▂▂▂▂▃▃▃▃▄▄▄▄▅▅▅▅▆▆▆▆▇▇▇▇███\n",
      "\u001b[34m\u001b[1mwandb\u001b[0m: Synced 5 W&B file(s), 1 media file(s), 0 artifact file(s) and 0 other file(s)\n",
      "\u001b[34m\u001b[1mwandb\u001b[0m: \n",
      "\u001b[34m\u001b[1mwandb\u001b[0m: Synced \u001b[33mhyper-tune-lr-0.005\u001b[0m: \u001b[34mhttps://wandb.ai/shubhamai/plant%20disease%20classification/runs/89625re0\u001b[0m\n",
      "\u001b[34m\u001b[1mwandb\u001b[0m: Tracking run with wandb version 0.10.2\n",
      "\u001b[34m\u001b[1mwandb\u001b[0m: Run data is saved locally in wandb/run-20200927_173612-myg2nyu9\n",
      "\u001b[34m\u001b[1mwandb\u001b[0m: Syncing run \u001b[33mhyper-tune-lr-0.05\u001b[0m\n"
     ]
    },
    {
     "data": {
      "text/html": [
       "\n",
       "                Logging results to <a href=\"https://wandb.com\" target=\"_blank\">Weights & Biases</a> <a href=\"https://docs.wandb.com/integrations/jupyter.html\" target=\"_blank\">(Documentation)</a>.<br/>\n",
       "                Project page: <a href=\"https://wandb.ai/shubhamai/plant%20disease%20classification\" target=\"_blank\">https://wandb.ai/shubhamai/plant%20disease%20classification</a><br/>\n",
       "                Run page: <a href=\"https://wandb.ai/shubhamai/plant%20disease%20classification/runs/myg2nyu9\" target=\"_blank\">https://wandb.ai/shubhamai/plant%20disease%20classification/runs/myg2nyu9</a><br/>\n",
       "            "
      ],
      "text/plain": [
       "<IPython.core.display.HTML object>"
      ]
     },
     "metadata": {},
     "output_type": "display_data"
    },
    {
     "name": "stdout",
     "output_type": "stream",
     "text": [
      "\n",
      "Epoch 1/30\n",
      "13/13 [==============================] - 176s 14s/step - loss: 5.7780 - AUC: 0.5487 - accuracy: 0.2814 - val_loss: nan - val_AUC: 0.0000e+00 - val_accuracy: 0.3224\n",
      "Epoch 2/30\n",
      "13/13 [==============================] - 12s 925ms/step - loss: 3.0090 - AUC: 0.6035 - accuracy: 0.3223 - val_loss: nan - val_AUC: 0.0000e+00 - val_accuracy: 0.3224\n",
      "Epoch 3/30\n",
      "13/13 [==============================] - 12s 925ms/step - loss: 1.6262 - AUC: 0.6200 - accuracy: 0.3144 - val_loss: 209440387059624672493568.0000 - val_AUC: 0.5483 - val_accuracy: 0.3224\n",
      "Epoch 4/30\n",
      "13/13 [==============================] - 12s 924ms/step - loss: 1.3937 - AUC: 0.6350 - accuracy: 0.3266 - val_loss: 688031614894080.0000 - val_AUC: 0.5483 - val_accuracy: 0.3224\n",
      "Epoch 5/30\n",
      "13/13 [==============================] - 12s 918ms/step - loss: 1.3312 - AUC: 0.6377 - accuracy: 0.3382 - val_loss: 65360101376.0000 - val_AUC: 0.3552 - val_accuracy: 0.0328\n",
      "Epoch 6/30\n",
      "13/13 [==============================] - 12s 925ms/step - loss: 1.3245 - AUC: 0.6348 - accuracy: 0.3138 - val_loss: 150938368.0000 - val_AUC: 0.3552 - val_accuracy: 0.0328\n",
      "Epoch 7/30\n",
      "13/13 [==============================] - 12s 921ms/step - loss: 1.2938 - AUC: 0.6527 - accuracy: 0.3382 - val_loss: 1148001.0000 - val_AUC: 0.3552 - val_accuracy: 0.0328\n",
      "Epoch 8/30\n",
      "13/13 [==============================] - 12s 924ms/step - loss: 1.2646 - AUC: 0.6742 - accuracy: 0.3773 - val_loss: 609777.3750 - val_AUC: 0.3552 - val_accuracy: 0.0328\n",
      "Epoch 9/30\n",
      "13/13 [==============================] - 12s 918ms/step - loss: 1.2262 - AUC: 0.6962 - accuracy: 0.3852 - val_loss: 39232.7930 - val_AUC: 0.3552 - val_accuracy: 0.0328\n",
      "Epoch 10/30\n",
      "13/13 [==============================] - 12s 921ms/step - loss: 1.2304 - AUC: 0.6939 - accuracy: 0.3938 - val_loss: 868.0061 - val_AUC: 0.3552 - val_accuracy: 0.0328\n",
      "Epoch 11/30\n",
      "13/13 [==============================] - 12s 923ms/step - loss: 1.1882 - AUC: 0.7250 - accuracy: 0.4310 - val_loss: 723.7077 - val_AUC: 0.3552 - val_accuracy: 0.0328\n",
      "Epoch 12/30\n",
      "13/13 [==============================] - 12s 922ms/step - loss: 1.1577 - AUC: 0.7491 - accuracy: 0.4744 - val_loss: 125.3864 - val_AUC: 0.3539 - val_accuracy: 0.0328\n",
      "Epoch 13/30\n",
      "13/13 [==============================] - 12s 921ms/step - loss: 1.0081 - AUC: 0.8208 - accuracy: 0.5861 - val_loss: 12.2792 - val_AUC: 0.6399 - val_accuracy: 0.4262\n",
      "Epoch 14/30\n",
      "13/13 [==============================] - 12s 921ms/step - loss: 0.8680 - AUC: 0.8709 - accuracy: 0.6508 - val_loss: 6.9843 - val_AUC: 0.6325 - val_accuracy: 0.4098\n",
      "Epoch 15/30\n",
      "13/13 [==============================] - 12s 923ms/step - loss: 0.7577 - AUC: 0.9008 - accuracy: 0.7027 - val_loss: 83.0385 - val_AUC: 0.5029 - val_accuracy: 0.2568\n",
      "Epoch 16/30\n",
      "13/13 [==============================] - 12s 923ms/step - loss: 0.7622 - AUC: 0.9007 - accuracy: 0.7100 - val_loss: 1.1773 - val_AUC: 0.8059 - val_accuracy: 0.6011\n",
      "Epoch 17/30\n",
      "13/13 [==============================] - 12s 923ms/step - loss: 0.6918 - AUC: 0.9172 - accuracy: 0.7381 - val_loss: 2.5446 - val_AUC: 0.5554 - val_accuracy: 0.3224\n",
      "Epoch 18/30\n",
      "13/13 [==============================] - 12s 920ms/step - loss: 0.6969 - AUC: 0.9166 - accuracy: 0.7399 - val_loss: 2.2434 - val_AUC: 0.5654 - val_accuracy: 0.3060\n",
      "Epoch 19/30\n",
      "13/13 [==============================] - 12s 919ms/step - loss: 0.6445 - AUC: 0.9282 - accuracy: 0.7668 - val_loss: 3.1661 - val_AUC: 0.5186 - val_accuracy: 0.3115\n",
      "Epoch 20/30\n",
      "13/13 [==============================] - 12s 920ms/step - loss: 0.5633 - AUC: 0.9449 - accuracy: 0.8010 - val_loss: 6.8973 - val_AUC: 0.4840 - val_accuracy: 0.3169\n",
      "Epoch 21/30\n",
      "13/13 [==============================] - 12s 924ms/step - loss: 0.5387 - AUC: 0.9491 - accuracy: 0.8053 - val_loss: 5.4634 - val_AUC: 0.7308 - val_accuracy: 0.6011\n",
      "Epoch 22/30\n",
      "13/13 [==============================] - 12s 924ms/step - loss: 0.4663 - AUC: 0.9618 - accuracy: 0.8346 - val_loss: 8.0943 - val_AUC: 0.6073 - val_accuracy: 0.3169\n",
      "Epoch 23/30\n",
      "13/13 [==============================] - 12s 920ms/step - loss: 0.4486 - AUC: 0.9637 - accuracy: 0.8486 - val_loss: 4.4758 - val_AUC: 0.6124 - val_accuracy: 0.3333\n",
      "Epoch 24/30\n",
      "13/13 [==============================] - 12s 919ms/step - loss: 0.4344 - AUC: 0.9654 - accuracy: 0.8559 - val_loss: 4.8923 - val_AUC: 0.6590 - val_accuracy: 0.3607\n",
      "Epoch 25/30\n",
      "13/13 [==============================] - 12s 926ms/step - loss: 0.3981 - AUC: 0.9706 - accuracy: 0.8645 - val_loss: 3.5314 - val_AUC: 0.5484 - val_accuracy: 0.3333\n",
      "Epoch 26/30\n",
      "13/13 [==============================] - 12s 928ms/step - loss: 0.3847 - AUC: 0.9722 - accuracy: 0.8718 - val_loss: 11.3198 - val_AUC: 0.7488 - val_accuracy: 0.6011\n",
      "Epoch 27/30\n",
      "13/13 [==============================] - 12s 922ms/step - loss: 0.3901 - AUC: 0.9713 - accuracy: 0.8797 - val_loss: 8.6448 - val_AUC: 0.7360 - val_accuracy: 0.5792\n",
      "Epoch 28/30\n",
      "13/13 [==============================] - 12s 924ms/step - loss: 0.4509 - AUC: 0.9630 - accuracy: 0.8516 - val_loss: 1.9615 - val_AUC: 0.7255 - val_accuracy: 0.5464\n",
      "Epoch 29/30\n",
      "13/13 [==============================] - 12s 918ms/step - loss: 0.4822 - AUC: 0.9588 - accuracy: 0.8419 - val_loss: 3.0675 - val_AUC: 0.6821 - val_accuracy: 0.4973\n",
      "Epoch 30/30\n",
      "13/13 [==============================] - 12s 917ms/step - loss: 0.4465 - AUC: 0.9626 - accuracy: 0.8602 - val_loss: 2.0304 - val_AUC: 0.7856 - val_accuracy: 0.6284\n"
     ]
    },
    {
     "name": "stderr",
     "output_type": "stream",
     "text": [
      "\u001b[34m\u001b[1mwandb\u001b[0m: Waiting for W&B process to finish, PID 233\n",
      "\u001b[34m\u001b[1mwandb\u001b[0m: Program ended successfully.\n",
      "\u001b[34m\u001b[1mwandb\u001b[0m: - 0.00MB of 0.00MB uploaded (0.00MB deduped)\r"
     ]
    },
    {
     "name": "stdout",
     "output_type": "stream",
     "text": [
      "{'learning rate': 0.1}\n",
      "\n"
     ]
    },
    {
     "name": "stderr",
     "output_type": "stream",
     "text": [
      "\u001b[34m\u001b[1mwandb\u001b[0m:                                                                                \n",
      "\u001b[34m\u001b[1mwandb\u001b[0m: Find user logs for this run at: wandb/run-20200927_173612-myg2nyu9/logs/debug.log\n",
      "\u001b[34m\u001b[1mwandb\u001b[0m: Find internal logs for this run at: wandb/run-20200927_173612-myg2nyu9/logs/debug-internal.log\n",
      "\u001b[34m\u001b[1mwandb\u001b[0m: Run summary:\n",
      "\u001b[34m\u001b[1mwandb\u001b[0m:           epoch 29\n",
      "\u001b[34m\u001b[1mwandb\u001b[0m:            loss 0.4465276598930359\n",
      "\u001b[34m\u001b[1mwandb\u001b[0m:             AUC 0.9626477360725403\n",
      "\u001b[34m\u001b[1mwandb\u001b[0m:        accuracy 0.8601953983306885\n",
      "\u001b[34m\u001b[1mwandb\u001b[0m:        val_loss 2.0304055213928223\n",
      "\u001b[34m\u001b[1mwandb\u001b[0m:         val_AUC 0.7856308221817017\n",
      "\u001b[34m\u001b[1mwandb\u001b[0m:    val_accuracy 0.6284153461456299\n",
      "\u001b[34m\u001b[1mwandb\u001b[0m:           _step 29\n",
      "\u001b[34m\u001b[1mwandb\u001b[0m:        _runtime 823\n",
      "\u001b[34m\u001b[1mwandb\u001b[0m:      _timestamp 1601228999\n",
      "\u001b[34m\u001b[1mwandb\u001b[0m:   best_val_loss 1.1772866249084473\n",
      "\u001b[34m\u001b[1mwandb\u001b[0m:      best_epoch 15\n",
      "\u001b[34m\u001b[1mwandb\u001b[0m: Run history:\n",
      "\u001b[34m\u001b[1mwandb\u001b[0m:          epoch ▁▁▁▂▂▂▂▃▃▃▃▄▄▄▄▅▅▅▅▆▆▆▆▇▇▇▇███\n",
      "\u001b[34m\u001b[1mwandb\u001b[0m:           loss █▄▃▂▂▂▂▂▂▂▂▂▂▂▁▁▁▁▁▁▁▁▁▁▁▁▁▁▁▁\n",
      "\u001b[34m\u001b[1mwandb\u001b[0m:            AUC ▁▂▂▂▂▂▃▃▃▃▄▄▅▆▇▇▇▇▇███████████\n",
      "\u001b[34m\u001b[1mwandb\u001b[0m:       accuracy ▁▁▁▂▂▁▂▂▂▂▃▃▅▅▆▆▆▆▇▇▇▇████████\n",
      "\u001b[34m\u001b[1mwandb\u001b[0m:       val_loss █▁▁▁▁▁▁▁▁▁▁▁▁▁▁▁▁▁▁▁▁▁▁▁▁▁▁▁\n",
      "\u001b[34m\u001b[1mwandb\u001b[0m:        val_AUC ▁▁▆▆▄▄▄▄▄▄▄▄▇▆▅█▆▆▆▅▇▆▆▇▆█▇▇▇█\n",
      "\u001b[34m\u001b[1mwandb\u001b[0m:   val_accuracy ▄▄▄▄▁▁▁▁▁▁▁▁▆▅▄█▄▄▄▄█▄▅▅▅█▇▇▆█\n",
      "\u001b[34m\u001b[1mwandb\u001b[0m:          _step ▁▁▁▂▂▂▂▃▃▃▃▄▄▄▄▅▅▅▅▆▆▆▆▇▇▇▇███\n",
      "\u001b[34m\u001b[1mwandb\u001b[0m:       _runtime ▁▁▁▂▂▂▂▃▃▃▃▄▄▄▄▅▅▅▅▆▆▆▆▇▇▇▇███\n",
      "\u001b[34m\u001b[1mwandb\u001b[0m:     _timestamp ▁▁▁▂▂▂▂▃▃▃▃▄▄▄▄▅▅▅▅▆▆▆▆▇▇▇▇███\n",
      "\u001b[34m\u001b[1mwandb\u001b[0m: Synced 5 W&B file(s), 1 media file(s), 0 artifact file(s) and 0 other file(s)\n",
      "\u001b[34m\u001b[1mwandb\u001b[0m: \n",
      "\u001b[34m\u001b[1mwandb\u001b[0m: Synced \u001b[33mhyper-tune-lr-0.05\u001b[0m: \u001b[34mhttps://wandb.ai/shubhamai/plant%20disease%20classification/runs/myg2nyu9\u001b[0m\n",
      "\u001b[34m\u001b[1mwandb\u001b[0m: Tracking run with wandb version 0.10.2\n",
      "\u001b[34m\u001b[1mwandb\u001b[0m: Run data is saved locally in wandb/run-20200927_175109-2vw4ai3b\n",
      "\u001b[34m\u001b[1mwandb\u001b[0m: Syncing run \u001b[33mhyper-tune-lr-0.1\u001b[0m\n"
     ]
    },
    {
     "data": {
      "text/html": [
       "\n",
       "                Logging results to <a href=\"https://wandb.com\" target=\"_blank\">Weights & Biases</a> <a href=\"https://docs.wandb.com/integrations/jupyter.html\" target=\"_blank\">(Documentation)</a>.<br/>\n",
       "                Project page: <a href=\"https://wandb.ai/shubhamai/plant%20disease%20classification\" target=\"_blank\">https://wandb.ai/shubhamai/plant%20disease%20classification</a><br/>\n",
       "                Run page: <a href=\"https://wandb.ai/shubhamai/plant%20disease%20classification/runs/2vw4ai3b\" target=\"_blank\">https://wandb.ai/shubhamai/plant%20disease%20classification/runs/2vw4ai3b</a><br/>\n",
       "            "
      ],
      "text/plain": [
       "<IPython.core.display.HTML object>"
      ]
     },
     "metadata": {},
     "output_type": "display_data"
    },
    {
     "name": "stdout",
     "output_type": "stream",
     "text": [
      "\n",
      "Epoch 1/30\n",
      "13/13 [==============================] - 180s 14s/step - loss: 15.6128 - AUC: 0.5201 - accuracy: 0.2601 - val_loss: nan - val_AUC: 0.0000e+00 - val_accuracy: 0.3224\n",
      "Epoch 2/30\n",
      "13/13 [==============================] - 12s 924ms/step - loss: 3.7534 - AUC: 0.6020 - accuracy: 0.3315 - val_loss: nan - val_AUC: 0.0000e+00 - val_accuracy: 0.3224\n",
      "Epoch 3/30\n",
      "13/13 [==============================] - 12s 918ms/step - loss: 2.3142 - AUC: 0.6094 - accuracy: 0.2918 - val_loss: 55588875884498185894232064.0000 - val_AUC: 0.3552 - val_accuracy: 0.0328\n",
      "Epoch 4/30\n",
      "13/13 [==============================] - 12s 918ms/step - loss: 1.9255 - AUC: 0.6120 - accuracy: 0.3077 - val_loss: 293691238090014720.0000 - val_AUC: 0.3552 - val_accuracy: 0.0328\n",
      "Epoch 5/30\n",
      "13/13 [==============================] - 12s 919ms/step - loss: 1.8030 - AUC: 0.6104 - accuracy: 0.3144 - val_loss: 3276275449856.0000 - val_AUC: 0.3552 - val_accuracy: 0.0328\n",
      "Epoch 6/30\n",
      "13/13 [==============================] - 12s 921ms/step - loss: 1.4745 - AUC: 0.6198 - accuracy: 0.3272 - val_loss: 8115863552.0000 - val_AUC: 0.3552 - val_accuracy: 0.0328\n",
      "Epoch 7/30\n",
      "13/13 [==============================] - 12s 921ms/step - loss: 1.3262 - AUC: 0.6373 - accuracy: 0.3254 - val_loss: 135827616.0000 - val_AUC: 0.3552 - val_accuracy: 0.0328\n",
      "Epoch 8/30\n",
      "13/13 [==============================] - 12s 926ms/step - loss: 1.2941 - AUC: 0.6424 - accuracy: 0.3266 - val_loss: 6794121.5000 - val_AUC: 0.3552 - val_accuracy: 0.0328\n",
      "Epoch 9/30\n",
      "13/13 [==============================] - 12s 921ms/step - loss: 1.3051 - AUC: 0.6325 - accuracy: 0.3242 - val_loss: 709584.5625 - val_AUC: 0.3552 - val_accuracy: 0.0328\n",
      "Epoch 10/30\n",
      "13/13 [==============================] - 12s 923ms/step - loss: 1.3121 - AUC: 0.6360 - accuracy: 0.3364 - val_loss: 120462.8516 - val_AUC: 0.3552 - val_accuracy: 0.0328\n",
      "Epoch 11/30\n",
      "13/13 [==============================] - 12s 927ms/step - loss: 1.2830 - AUC: 0.6462 - accuracy: 0.3437 - val_loss: 28053.7500 - val_AUC: 0.3552 - val_accuracy: 0.0328\n",
      "Epoch 12/30\n",
      "13/13 [==============================] - 12s 920ms/step - loss: 1.2593 - AUC: 0.6546 - accuracy: 0.3480 - val_loss: 9665.7939 - val_AUC: 0.3552 - val_accuracy: 0.0328\n",
      "Epoch 13/30\n",
      "13/13 [==============================] - 12s 921ms/step - loss: 1.2812 - AUC: 0.6424 - accuracy: 0.3364 - val_loss: 3662.4192 - val_AUC: 0.3552 - val_accuracy: 0.0328\n",
      "Epoch 14/30\n",
      "13/13 [==============================] - 12s 921ms/step - loss: 1.2771 - AUC: 0.6316 - accuracy: 0.3126 - val_loss: 1119.4407 - val_AUC: 0.3552 - val_accuracy: 0.0328\n",
      "Epoch 15/30\n",
      "13/13 [==============================] - 12s 922ms/step - loss: 1.2683 - AUC: 0.6492 - accuracy: 0.3358 - val_loss: 344.1408 - val_AUC: 0.3575 - val_accuracy: 0.0328\n",
      "Epoch 16/30\n",
      "13/13 [==============================] - 12s 923ms/step - loss: 1.2597 - AUC: 0.6528 - accuracy: 0.3419 - val_loss: 126.1455 - val_AUC: 0.3588 - val_accuracy: 0.0437\n",
      "Epoch 17/30\n",
      "13/13 [==============================] - 12s 927ms/step - loss: 1.2562 - AUC: 0.6752 - accuracy: 0.3657 - val_loss: 43.4035 - val_AUC: 0.3542 - val_accuracy: 0.0546\n",
      "Epoch 18/30\n",
      "13/13 [==============================] - 12s 923ms/step - loss: 1.2214 - AUC: 0.6992 - accuracy: 0.4017 - val_loss: 1.7303 - val_AUC: 0.5527 - val_accuracy: 0.2732\n",
      "Epoch 19/30\n",
      "13/13 [==============================] - 12s 925ms/step - loss: 1.1943 - AUC: 0.7218 - accuracy: 0.4249 - val_loss: 1.5528 - val_AUC: 0.6242 - val_accuracy: 0.4262\n",
      "Epoch 20/30\n",
      "13/13 [==============================] - 12s 924ms/step - loss: 1.2133 - AUC: 0.7091 - accuracy: 0.3980 - val_loss: 2.0560 - val_AUC: 0.5400 - val_accuracy: 0.3388\n",
      "Epoch 21/30\n",
      "13/13 [==============================] - 12s 925ms/step - loss: 1.2028 - AUC: 0.7126 - accuracy: 0.3956 - val_loss: 2.3443 - val_AUC: 0.5734 - val_accuracy: 0.3279\n",
      "Epoch 22/30\n",
      "13/13 [==============================] - 12s 922ms/step - loss: 1.1965 - AUC: 0.7225 - accuracy: 0.4121 - val_loss: 1.6386 - val_AUC: 0.5955 - val_accuracy: 0.3279\n",
      "Epoch 23/30\n",
      "13/13 [==============================] - 12s 926ms/step - loss: 1.1889 - AUC: 0.7273 - accuracy: 0.4347 - val_loss: 1.7151 - val_AUC: 0.5750 - val_accuracy: 0.3443\n",
      "Epoch 24/30\n",
      "13/13 [==============================] - 12s 927ms/step - loss: 1.1870 - AUC: 0.7297 - accuracy: 0.4353 - val_loss: 1.7069 - val_AUC: 0.4843 - val_accuracy: 0.2787\n",
      "Epoch 25/30\n",
      "13/13 [==============================] - 12s 926ms/step - loss: 1.1696 - AUC: 0.7396 - accuracy: 0.4512 - val_loss: 1.4366 - val_AUC: 0.5211 - val_accuracy: 0.3115\n",
      "Epoch 26/30\n",
      "13/13 [==============================] - 12s 921ms/step - loss: 1.1680 - AUC: 0.7421 - accuracy: 0.4567 - val_loss: 1.4039 - val_AUC: 0.5493 - val_accuracy: 0.2787\n",
      "Epoch 27/30\n",
      "13/13 [==============================] - 12s 918ms/step - loss: 1.1566 - AUC: 0.7493 - accuracy: 0.4774 - val_loss: 1.4964 - val_AUC: 0.5707 - val_accuracy: 0.3169\n",
      "Epoch 28/30\n",
      "13/13 [==============================] - 12s 919ms/step - loss: 1.1709 - AUC: 0.7450 - accuracy: 0.4585 - val_loss: 1.3820 - val_AUC: 0.6571 - val_accuracy: 0.4208\n",
      "Epoch 29/30\n",
      "13/13 [==============================] - 12s 924ms/step - loss: 1.1635 - AUC: 0.7471 - accuracy: 0.4609 - val_loss: 1.6009 - val_AUC: 0.6579 - val_accuracy: 0.3552\n",
      "Epoch 30/30\n",
      "13/13 [==============================] - 12s 919ms/step - loss: 1.1647 - AUC: 0.7478 - accuracy: 0.4670 - val_loss: 1.1258 - val_AUC: 0.7702 - val_accuracy: 0.5246\n"
     ]
    },
    {
     "name": "stderr",
     "output_type": "stream",
     "text": [
      "\u001b[34m\u001b[1mwandb\u001b[0m: Waiting for W&B process to finish, PID 260\n",
      "\u001b[34m\u001b[1mwandb\u001b[0m: Program ended successfully.\n",
      "\u001b[34m\u001b[1mwandb\u001b[0m: - 0.00MB of 0.00MB uploaded (0.00MB deduped)\r"
     ]
    },
    {
     "name": "stdout",
     "output_type": "stream",
     "text": [
      "{'learning rate': 0.3}\n",
      "\n"
     ]
    },
    {
     "name": "stderr",
     "output_type": "stream",
     "text": [
      "\u001b[34m\u001b[1mwandb\u001b[0m:                                                                                \n",
      "\u001b[34m\u001b[1mwandb\u001b[0m: Find user logs for this run at: wandb/run-20200927_175109-2vw4ai3b/logs/debug.log\n",
      "\u001b[34m\u001b[1mwandb\u001b[0m: Find internal logs for this run at: wandb/run-20200927_175109-2vw4ai3b/logs/debug-internal.log\n",
      "\u001b[34m\u001b[1mwandb\u001b[0m: Run summary:\n",
      "\u001b[34m\u001b[1mwandb\u001b[0m:           epoch 29\n",
      "\u001b[34m\u001b[1mwandb\u001b[0m:            loss 1.164654016494751\n",
      "\u001b[34m\u001b[1mwandb\u001b[0m:             AUC 0.7478012442588806\n",
      "\u001b[34m\u001b[1mwandb\u001b[0m:        accuracy 0.4670329689979553\n",
      "\u001b[34m\u001b[1mwandb\u001b[0m:        val_loss 1.1257728338241577\n",
      "\u001b[34m\u001b[1mwandb\u001b[0m:         val_AUC 0.7701732516288757\n",
      "\u001b[34m\u001b[1mwandb\u001b[0m:    val_accuracy 0.5245901942253113\n",
      "\u001b[34m\u001b[1mwandb\u001b[0m:           _step 29\n",
      "\u001b[34m\u001b[1mwandb\u001b[0m:        _runtime 830\n",
      "\u001b[34m\u001b[1mwandb\u001b[0m:      _timestamp 1601229903\n",
      "\u001b[34m\u001b[1mwandb\u001b[0m:   best_val_loss 1.1257728338241577\n",
      "\u001b[34m\u001b[1mwandb\u001b[0m:      best_epoch 29\n",
      "\u001b[34m\u001b[1mwandb\u001b[0m: Run history:\n",
      "\u001b[34m\u001b[1mwandb\u001b[0m:          epoch ▁▁▁▂▂▂▂▃▃▃▃▄▄▄▄▅▅▅▅▆▆▆▆▇▇▇▇███\n",
      "\u001b[34m\u001b[1mwandb\u001b[0m:           loss █▂▂▁▁▁▁▁▁▁▁▁▁▁▁▁▁▁▁▁▁▁▁▁▁▁▁▁▁▁\n",
      "\u001b[34m\u001b[1mwandb\u001b[0m:            AUC ▁▄▄▄▄▄▅▅▄▅▅▅▅▄▅▅▆▆▇▇▇▇▇▇██████\n",
      "\u001b[34m\u001b[1mwandb\u001b[0m:       accuracy ▁▃▂▃▃▃▃▃▃▃▄▄▃▃▃▄▄▆▆▅▅▆▇▇▇▇█▇▇█\n",
      "\u001b[34m\u001b[1mwandb\u001b[0m:       val_loss █▁▁▁▁▁▁▁▁▁▁▁▁▁▁▁▁▁▁▁▁▁▁▁▁▁▁▁\n",
      "\u001b[34m\u001b[1mwandb\u001b[0m:        val_AUC ▁▁▄▄▄▄▄▄▄▄▄▄▄▄▄▄▄▆▇▆▆▆▆▅▆▆▆▇▇█\n",
      "\u001b[34m\u001b[1mwandb\u001b[0m:   val_accuracy ▅▅▁▁▁▁▁▁▁▁▁▁▁▁▁▁▁▄▇▅▅▅▅▅▅▅▅▇▆█\n",
      "\u001b[34m\u001b[1mwandb\u001b[0m:          _step ▁▁▁▂▂▂▂▃▃▃▃▄▄▄▄▅▅▅▅▆▆▆▆▇▇▇▇███\n",
      "\u001b[34m\u001b[1mwandb\u001b[0m:       _runtime ▁▁▁▂▂▂▂▃▃▃▃▄▄▄▄▅▅▅▅▆▆▆▆▇▇▇▇███\n",
      "\u001b[34m\u001b[1mwandb\u001b[0m:     _timestamp ▁▁▁▂▂▂▂▃▃▃▃▄▄▄▄▅▅▅▅▆▆▆▆▇▇▇▇███\n",
      "\u001b[34m\u001b[1mwandb\u001b[0m: Synced 5 W&B file(s), 1 media file(s), 0 artifact file(s) and 0 other file(s)\n",
      "\u001b[34m\u001b[1mwandb\u001b[0m: \n",
      "\u001b[34m\u001b[1mwandb\u001b[0m: Synced \u001b[33mhyper-tune-lr-0.1\u001b[0m: \u001b[34mhttps://wandb.ai/shubhamai/plant%20disease%20classification/runs/2vw4ai3b\u001b[0m\n",
      "\u001b[34m\u001b[1mwandb\u001b[0m: Tracking run with wandb version 0.10.2\n",
      "\u001b[34m\u001b[1mwandb\u001b[0m: Run data is saved locally in wandb/run-20200927_180609-1shkwj16\n",
      "\u001b[34m\u001b[1mwandb\u001b[0m: Syncing run \u001b[33mhyper-tune-lr-0.3\u001b[0m\n"
     ]
    },
    {
     "data": {
      "text/html": [
       "\n",
       "                Logging results to <a href=\"https://wandb.com\" target=\"_blank\">Weights & Biases</a> <a href=\"https://docs.wandb.com/integrations/jupyter.html\" target=\"_blank\">(Documentation)</a>.<br/>\n",
       "                Project page: <a href=\"https://wandb.ai/shubhamai/plant%20disease%20classification\" target=\"_blank\">https://wandb.ai/shubhamai/plant%20disease%20classification</a><br/>\n",
       "                Run page: <a href=\"https://wandb.ai/shubhamai/plant%20disease%20classification/runs/1shkwj16\" target=\"_blank\">https://wandb.ai/shubhamai/plant%20disease%20classification/runs/1shkwj16</a><br/>\n",
       "            "
      ],
      "text/plain": [
       "<IPython.core.display.HTML object>"
      ]
     },
     "metadata": {},
     "output_type": "display_data"
    },
    {
     "name": "stdout",
     "output_type": "stream",
     "text": [
      "\n",
      "Epoch 1/30\n",
      "13/13 [==============================] - 176s 14s/step - loss: 67.1652 - AUC: 0.5083 - accuracy: 0.2674 - val_loss: nan - val_AUC: 0.0000e+00 - val_accuracy: 0.3224\n",
      "Epoch 2/30\n",
      "13/13 [==============================] - 12s 930ms/step - loss: 13.4623 - AUC: 0.5615 - accuracy: 0.3175 - val_loss: nan - val_AUC: 0.0000e+00 - val_accuracy: 0.3224\n",
      "Epoch 3/30\n",
      "13/13 [==============================] - 12s 924ms/step - loss: 11.0441 - AUC: 0.5347 - accuracy: 0.2863 - val_loss: nan - val_AUC: 0.0000e+00 - val_accuracy: 0.3224\n",
      "Epoch 4/30\n",
      "13/13 [==============================] - 12s 926ms/step - loss: 11.2913 - AUC: 0.5461 - accuracy: 0.2961 - val_loss: 50339665779197377458995200.0000 - val_AUC: 0.3552 - val_accuracy: 0.0328\n",
      "Epoch 5/30\n",
      "13/13 [==============================] - 12s 921ms/step - loss: 6.7698 - AUC: 0.5781 - accuracy: 0.3248 - val_loss: 1032766667765055488.0000 - val_AUC: 0.3552 - val_accuracy: 0.0328\n",
      "Epoch 6/30\n",
      "13/13 [==============================] - 12s 920ms/step - loss: 5.2661 - AUC: 0.5272 - accuracy: 0.2747 - val_loss: 8051994132480.0000 - val_AUC: 0.3552 - val_accuracy: 0.0328\n",
      "Epoch 7/30\n",
      "13/13 [==============================] - 12s 920ms/step - loss: 4.6086 - AUC: 0.5492 - accuracy: 0.2967 - val_loss: 7099904000.0000 - val_AUC: 0.3552 - val_accuracy: 0.0328\n",
      "Epoch 8/30\n",
      "13/13 [==============================] - 12s 920ms/step - loss: 2.6576 - AUC: 0.6043 - accuracy: 0.3394 - val_loss: 19091686.0000 - val_AUC: 0.5519 - val_accuracy: 0.3279\n",
      "Epoch 9/30\n",
      "13/13 [==============================] - 12s 924ms/step - loss: 1.6633 - AUC: 0.5977 - accuracy: 0.3004 - val_loss: 1216940.6250 - val_AUC: 0.3552 - val_accuracy: 0.0328\n",
      "Epoch 10/30\n",
      "13/13 [==============================] - 12s 920ms/step - loss: 1.4284 - AUC: 0.6297 - accuracy: 0.3120 - val_loss: 168152.5781 - val_AUC: 0.3552 - val_accuracy: 0.0328\n",
      "Epoch 11/30\n",
      "13/13 [==============================] - 12s 926ms/step - loss: 1.4408 - AUC: 0.6173 - accuracy: 0.3095 - val_loss: 18784.9336 - val_AUC: 0.5483 - val_accuracy: 0.3224\n",
      "Epoch 12/30\n",
      "13/13 [==============================] - 12s 924ms/step - loss: 1.3475 - AUC: 0.6189 - accuracy: 0.3028 - val_loss: 5428.9751 - val_AUC: 0.5483 - val_accuracy: 0.3224\n",
      "Epoch 13/30\n",
      "13/13 [==============================] - 12s 923ms/step - loss: 1.3025 - AUC: 0.6256 - accuracy: 0.3114 - val_loss: 585.0731 - val_AUC: 0.5370 - val_accuracy: 0.3060\n",
      "Epoch 14/30\n",
      "13/13 [==============================] - 12s 923ms/step - loss: 1.3172 - AUC: 0.6253 - accuracy: 0.3126 - val_loss: 305.5317 - val_AUC: 0.5483 - val_accuracy: 0.3224\n",
      "Epoch 15/30\n",
      "13/13 [==============================] - 12s 920ms/step - loss: 1.3164 - AUC: 0.6374 - accuracy: 0.3248 - val_loss: 87.7911 - val_AUC: 0.5562 - val_accuracy: 0.3169\n",
      "Epoch 16/30\n",
      "13/13 [==============================] - 12s 921ms/step - loss: 1.3374 - AUC: 0.6266 - accuracy: 0.3083 - val_loss: 61.9542 - val_AUC: 0.5319 - val_accuracy: 0.3005\n",
      "Epoch 17/30\n",
      "13/13 [==============================] - 12s 926ms/step - loss: 1.3388 - AUC: 0.6248 - accuracy: 0.3010 - val_loss: 17.7952 - val_AUC: 0.5338 - val_accuracy: 0.3224\n",
      "Epoch 18/30\n",
      "13/13 [==============================] - 12s 926ms/step - loss: 1.3237 - AUC: 0.6303 - accuracy: 0.3162 - val_loss: 4.1312 - val_AUC: 0.5872 - val_accuracy: 0.3115\n",
      "Epoch 19/30\n",
      "13/13 [==============================] - 12s 923ms/step - loss: 1.3005 - AUC: 0.6363 - accuracy: 0.3297 - val_loss: 2.6028 - val_AUC: 0.6046 - val_accuracy: 0.3169\n",
      "Epoch 20/30\n",
      "13/13 [==============================] - 12s 923ms/step - loss: 1.2991 - AUC: 0.6380 - accuracy: 0.3217 - val_loss: 2.7298 - val_AUC: 0.5392 - val_accuracy: 0.2678\n",
      "Epoch 21/30\n",
      "13/13 [==============================] - 12s 920ms/step - loss: 1.3211 - AUC: 0.6305 - accuracy: 0.3089 - val_loss: 2.0775 - val_AUC: 0.5483 - val_accuracy: 0.2623\n",
      "Epoch 22/30\n",
      "13/13 [==============================] - 12s 925ms/step - loss: 1.3026 - AUC: 0.6398 - accuracy: 0.3333 - val_loss: 1.7983 - val_AUC: 0.6154 - val_accuracy: 0.3333\n",
      "Epoch 23/30\n",
      "13/13 [==============================] - 12s 920ms/step - loss: 1.3233 - AUC: 0.6265 - accuracy: 0.3095 - val_loss: 1.6905 - val_AUC: 0.5946 - val_accuracy: 0.3060\n",
      "Epoch 24/30\n",
      "13/13 [==============================] - 12s 936ms/step - loss: 1.3029 - AUC: 0.6397 - accuracy: 0.3193 - val_loss: 1.5798 - val_AUC: 0.5991 - val_accuracy: 0.3224\n",
      "Epoch 25/30\n",
      "13/13 [==============================] - 12s 924ms/step - loss: 1.3042 - AUC: 0.6357 - accuracy: 0.3193 - val_loss: 1.2911 - val_AUC: 0.6422 - val_accuracy: 0.3169\n",
      "Epoch 26/30\n",
      "13/13 [==============================] - 12s 921ms/step - loss: 1.3111 - AUC: 0.6275 - accuracy: 0.3144 - val_loss: 1.4676 - val_AUC: 0.5900 - val_accuracy: 0.2842\n",
      "Epoch 27/30\n",
      "13/13 [==============================] - 12s 919ms/step - loss: 1.3223 - AUC: 0.6261 - accuracy: 0.3034 - val_loss: 1.3295 - val_AUC: 0.6268 - val_accuracy: 0.3224\n",
      "Epoch 28/30\n",
      "13/13 [==============================] - 12s 922ms/step - loss: 1.3046 - AUC: 0.6332 - accuracy: 0.3156 - val_loss: 1.2803 - val_AUC: 0.6356 - val_accuracy: 0.3279\n",
      "Epoch 29/30\n",
      "13/13 [==============================] - 12s 925ms/step - loss: 1.3157 - AUC: 0.6293 - accuracy: 0.3126 - val_loss: 1.2714 - val_AUC: 0.6444 - val_accuracy: 0.3279\n",
      "Epoch 30/30\n",
      "13/13 [==============================] - 12s 921ms/step - loss: 1.3048 - AUC: 0.6318 - accuracy: 0.3114 - val_loss: 1.3193 - val_AUC: 0.6396 - val_accuracy: 0.3169\n"
     ]
    }
   ],
   "source": [
    "for lr in learning_rate:\n",
    "    \n",
    "    with strategy.scope():\n",
    "        \n",
    "        model = create_model()\n",
    "        \n",
    "        optimizer = tf.keras.optimizers.Adam(learning_rate=lr)\n",
    "        \n",
    "        model.compile(optimizer=optimizer, loss='categorical_crossentropy', metrics=['accuracy', tf.keras.metrics.AUC(name='AUC')])\n",
    "        \n",
    "    config = {'learning rate':lr}\n",
    "    \n",
    "    print(config)\n",
    "    \n",
    "    wandb.init(project='plant disease classification', config=config, name=f'hyper-tune-lr-{lr}')\n",
    "    \n",
    "    wandb_callback = WandbCallback(save_model=False)\n",
    "    \n",
    "    model.fit(train_dataset, epochs=30, validation_data=valid_dataset, callbacks=[wandb_callback])\n",
    "    \n",
    "    tf.tpu.experimental.initialize_tpu_system(tpu)"
   ]
  }
 ],
 "metadata": {
  "kernelspec": {
   "display_name": "Python 3",
   "language": "python",
   "name": "python3"
  },
  "language_info": {
   "codemirror_mode": {
    "name": "ipython",
    "version": 3
   },
   "file_extension": ".py",
   "mimetype": "text/x-python",
   "name": "python",
   "nbconvert_exporter": "python",
   "pygments_lexer": "ipython3",
   "version": "3.7.6"
  },
  "papermill": {
   "duration": 4571.202031,
   "end_time": "2020-09-27T18:20:08.392561",
   "environment_variables": {},
   "exception": null,
   "input_path": "__notebook__.ipynb",
   "output_path": "__notebook__.ipynb",
   "parameters": {},
   "start_time": "2020-09-27T17:03:57.190530",
   "version": "2.1.0"
  }
 },
 "nbformat": 4,
 "nbformat_minor": 4
}
